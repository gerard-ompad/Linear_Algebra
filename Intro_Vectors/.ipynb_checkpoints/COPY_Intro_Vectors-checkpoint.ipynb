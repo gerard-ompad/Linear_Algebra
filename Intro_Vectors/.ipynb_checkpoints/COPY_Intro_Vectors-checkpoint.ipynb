{
 "cells": [
  {
   "cell_type": "markdown",
   "metadata": {},
   "source": [
    "# Answers\n",
    "\n",
    "**1. Let $\\textbf{u} = (1, -2, 4)$ and $\\textbf{v} = (3, 5, 1)$ and $\\textbf{w} = (2, 1, -3)$ find:**\n",
    "**a. $3\\textbf{u} - 2\\textbf{v}$**\n",
    "\n",
    "*Manual Solution*\n",
    "$$\n",
    "\\begin{align}\n",
    "    3\\textbf{u} - 2\\textbf{v} &= 3(1, (-2), 4) - 2(3, 5, 1) \\\\\n",
    "        &= (3, (-6), 12) - (6, 10, 2) \\\\\n",
    "        3\\textbf{u} - 2\\textbf{v} &= (-3, -16, 10)\n",
    "\\end{align}\n",
    "$$\n",
    "\n",
    "*Pythonic Solution*"
   ]
  },
  {
   "cell_type": "markdown",
   "metadata": {},
   "source": []
  },
  {
   "cell_type": "code",
   "execution_count": null,
   "metadata": {},
   "outputs": [
    {
     "name": "stdout",
     "output_type": "stream",
     "text": [
      "1.a. 3u + 2v =  [ -3 -16  10]\n"
     ]
    }
   ],
   "source": [
    "import numpy as np\n",
    "\n",
    "u = np.array([1, -2, 4])\n",
    "v = np.array([3, 5, 1])\n",
    "\n",
    "print(\"1.a. 3u + 2v = \", 3*u - 2*v)"
   ]
  },
  {
   "cell_type": "markdown",
   "metadata": {},
   "source": [
    "**b. $5\\textbf{u} + 3\\textbf{v} - 4\\textbf{w}$**\n",
    "\n",
    "*Manual Solution*\n",
    "$$\n",
    "\\begin{align}\n",
    "    5\\textbf{u} + 3\\textbf{v} - 4\\textbf{w} &= 5(1, (-2), 4) + 3(3, 5, 1) - 4(2, 1, (-3)) \\\\\n",
    "        &= (5, (-10), 20) + (9, 15, 3) - (8, 4, (-12)) \\\\\n",
    "        &= ((5 + 9 - 8), ((-10) + 15 - 4), (20 + 3 - (-12))) \\\\\n",
    "        5\\textbf{u} + 3\\textbf{v} - 4\\textbf{w} &= (6, 1, 35)\n",
    "\\end{align}\n",
    "$$\n",
    "\n",
    "*Pythonic Solution*"
   ]
  },
  {
   "cell_type": "code",
   "execution_count": 378,
   "metadata": {},
   "outputs": [
    {
     "name": "stdout",
     "output_type": "stream",
     "text": [
      "1.b. 5u + 3v - 4w =  [ 6  1 35]\n"
     ]
    }
   ],
   "source": [
    "import numpy as np\n",
    "\n",
    "u = np.array([1, -2, 4])\n",
    "v = np.array([3, 5, 1])\n",
    "w = np.array([2, 1, -3])\n",
    "\n",
    "print(\"1.b. 5u + 3v - 4w = \", 5*u + 3*v - 4*w)"
   ]
  },
  {
   "cell_type": "markdown",
   "metadata": {},
   "source": [
    "**c. $\\textbf{u} \\cdotp \\textbf{v}$, $\\textbf{v} \\cdotp \\textbf{w}$, $\\textbf{u} \\cdotp \\textbf{w}$**\n",
    "\n",
    "*Manual Solution*\n",
    "$$\n",
    "\\begin{align}\n",
    "    \\textbf{u} \\cdotp \\textbf{v} &= (1)(3) + (-2)(5) + (4)(1) \\\\\n",
    "        &= (3) + (-10) + (4) \\\\\n",
    "    \\textbf{u} \\cdotp \\textbf{v} &= -3\n",
    "\\end{align}\n",
    "$$\n",
    "\n",
    "$$\n",
    "\\begin{align}\n",
    "    \\textbf{v} \\cdotp \\textbf{w} &= (3)(2) + (5)(1) + (1)(-3) \\\\\n",
    "        &= (6) + (5) + (-3) \\\\\n",
    "    \\textbf{v} \\cdotp \\textbf{w} &= 8\n",
    "\\end{align}\n",
    "$$\n",
    "\n",
    "$$\n",
    "\\begin{align}\n",
    "    \\textbf{u} \\cdotp \\textbf{w} &= (1)(2) + (-2)(1) + (4)(-3) \\\\\n",
    "        &= (2) + (-2) + (-12) \\\\\n",
    "    \\textbf{u} \\cdotp \\textbf{w} &= -12\n",
    "\\end{align}\n",
    "$$\n",
    "\n",
    "*Pythonic Solution*"
   ]
  },
  {
   "cell_type": "code",
   "execution_count": 379,
   "metadata": {},
   "outputs": [
    {
     "name": "stdout",
     "output_type": "stream",
     "text": [
      "1.c.\n",
      "u.v =  -3\n",
      "v.w =  8\n",
      "u.w =  -12\n"
     ]
    }
   ],
   "source": [
    "import numpy as np\n",
    "\n",
    "u = np.array([1, -2, 4])\n",
    "v = np.array([3, 5, 1])\n",
    "w = np.array([2, 1, -3])\n",
    "\n",
    "print(\"1.c.\")\n",
    "print(\"u.v = \", u.dot(v))\n",
    "print(\"v.w = \", v.dot(w))\n",
    "print(\"u.w = \", u.dot(w))"
   ]
  },
  {
   "cell_type": "markdown",
   "metadata": {},
   "source": [
    "**d. $||\\textbf{u}||$, $||\\textbf{v}||$, $||\\textbf{w}||$**\n",
    "\n",
    "*Manual Solution*\n",
    "$$\n",
    "\\begin{align}\n",
    "    ||\\textbf{u}|| &= \\sqrt{1^2 + (-2)^2 + 4^2} \\\\\n",
    "        &= \\sqrt{1 + 4 + 16} \\\\\n",
    "    ||\\textbf{u}|| &= \\sqrt{21}\n",
    "\\end{align}\n",
    "$$\n",
    "\n",
    "$$\n",
    "\\begin{align}\n",
    "    ||\\textbf{v}|| &= \\sqrt{3^2 + 5^2 + 1^2} \\\\\n",
    "        &= \\sqrt{9 + 25 + 1} \\\\\n",
    "        ||\\textbf{v}|| &= \\sqrt{35}\n",
    "\\end{align}\n",
    "$$\n",
    "\n",
    "$$\n",
    "\\begin{align}\n",
    "    ||\\textbf{w}|| &= \\sqrt{2^2 + 1^2 + (-3)^2} \\\\\n",
    "        &= \\sqrt{4 + 1 + 9} \\\\\n",
    "        ||\\textbf{w}|| &= \\sqrt{14}\n",
    "\\end{align}\n",
    "$$\n",
    "\n",
    "*Pythonic Solution*"
   ]
  },
  {
   "cell_type": "code",
   "execution_count": 380,
   "metadata": {},
   "outputs": [
    {
     "name": "stdout",
     "output_type": "stream",
     "text": [
      "1.d.\n",
      "||u|| =  4.58257569495584\n",
      "||u|| =  4.58257569495584\n",
      "\n",
      "||v|| =  5.916079783099616\n",
      "||v|| =  5.916079783099616\n",
      "\n",
      "||w|| =  3.7416573867739413\n",
      "||w|| =  3.7416573867739413\n"
     ]
    }
   ],
   "source": [
    "import numpy as np\n",
    "\n",
    "u = np.array([1, -2, 4])\n",
    "v = np.array([3, 5, 1])\n",
    "w = np.array([2, 1, -3])\n",
    "\n",
    "print(\"1.d.\")\n",
    "print(\"||u|| = \", np.sqrt(u.dot(u)))\n",
    "print(\"||u|| = \", np.sqrt(21))\n",
    "print()\n",
    "print(\"||v|| = \", np.sqrt(v.dot(v)))\n",
    "print(\"||v|| = \", np.sqrt(35))\n",
    "print()\n",
    "print(\"||w|| = \", np.sqrt(w.dot(w)))\n",
    "print(\"||w|| = \", np.sqrt(14))"
   ]
  },
  {
   "cell_type": "markdown",
   "metadata": {},
   "source": [
    "**e. if $\\theta$ is the angle between $\\textbf{u}$ and $\\textbf{v}$, find $\\cos{\\theta}$.**\n",
    "\n",
    "*Manual Solution*\n",
    "$$\n",
    "\\begin{align}\n",
    "    \\cos{\\theta} &= \\frac{\\textbf{u} \\cdotp \\textbf{v}}{||\\textbf{u}|| \\ ||\\textbf{v}||} \\\\\n",
    "        &= \\frac{(1)(3) + (-2)(5) + (4)(1)}{\\sqrt{1^2 + (-2)^2 + 4^2} \\sqrt{3^2 + 5^2 + 1^2}} \\\\\n",
    "        &= \\frac{3 + (-10) + 4}{\\sqrt{1 + 4 + 16} \\sqrt{9 + 25 + 1}} \\\\\n",
    "        \\cos{\\theta} &= \\frac{-3}{\\sqrt{21} \\sqrt{35}}\n",
    "\\end{align}\n",
    "$$\n",
    "\n",
    "*Pythonic Solution*"
   ]
  },
  {
   "cell_type": "code",
   "execution_count": 381,
   "metadata": {},
   "outputs": [
    {
     "name": "stdout",
     "output_type": "stream",
     "text": [
      "1.e.\n",
      "angle =  -0.11065666703449763\n",
      "angle =  -0.11065666703449763\n"
     ]
    }
   ],
   "source": [
    "import numpy as np\n",
    "\n",
    "u = np.array([1, -2, 4])\n",
    "v = np.array([3, 5, 1])\n",
    "\n",
    "print(\"1.e.\")\n",
    "print(\"angle = \", u.dot(v) / (np.linalg.norm(u)*np.linalg.norm(v)))\n",
    "print(\"angle = \", (-3) / (np.sqrt(21)*np.sqrt(35)))"
   ]
  },
  {
   "cell_type": "markdown",
   "metadata": {},
   "source": [
    "**f. if $\\alpha$ is the angle between $\\textbf{v}$ and $\\textbf{w}$, find $\\cos{\\alpha}$.**\n",
    "\n",
    "*Manual Selection*\n",
    "$$\n",
    "\\begin{align}\n",
    "    \\cos{\\alpha} &= \\frac{\\textbf{v} \\cdotp \\textbf{w}}{||\\textbf{v}|| \\ ||\\textbf{w}||} \\\\\n",
    "        &= \\frac{(3)(2) + (5)(1) + (1)(-3)}{\\sqrt{3^2 + 5^2 + 1^2} \\sqrt{2^2 + 1^2 + (-3)^2}} \\\\\n",
    "        &= \\frac{6 + 5 + (-3)}{\\sqrt{9 + 25 + 1} \\sqrt{4 + 1 + 9}} \\\\\n",
    "        \\cos{\\alpha} &= \\frac{8}{\\sqrt{35} \\sqrt{14}}\n",
    "\\end{align}\n",
    "$$\n",
    "\n",
    "*Pythonic Solution*"
   ]
  },
  {
   "cell_type": "code",
   "execution_count": 382,
   "metadata": {},
   "outputs": [
    {
     "name": "stdout",
     "output_type": "stream",
     "text": [
      "1.f.\n",
      "angle =  0.36140316116210053\n",
      "angle =  0.36140316116210053\n"
     ]
    }
   ],
   "source": [
    "import numpy as np\n",
    "\n",
    "v = np.array([3, 5, 1])\n",
    "w = np.array([2, 1, -3])\n",
    "\n",
    "print(\"1.f.\")\n",
    "print(\"angle = \", v.dot(w) / (np.linalg.norm(v)*np.linalg.norm(w)))\n",
    "print(\"angle = \", 8 / (np.sqrt(35)*np.sqrt(14)))"
   ]
  },
  {
   "cell_type": "markdown",
   "metadata": {},
   "source": [
    "**g. if $\\beta$ is the angle between $\\textbf{u}$ and $\\textbf{w}$, find $\\cos{\\beta}$.**\n",
    "\n",
    "*Manual Selection*\n",
    "$$\n",
    "\\begin{align}\n",
    "    \\cos{\\beta} &= \\frac{\\textbf{u} \\cdotp \\textbf{w}}{||\\textbf{u}|| \\ ||\\textbf{w}||} \\\\\n",
    "        &= \\frac{(1)(2) + (-2)(1) + (4)(-3)}{\\sqrt{1^2 + (-2)^2 + 4^2} \\sqrt{2^2 + 1^2 + (-3)^2}} \\\\\n",
    "        &= \\frac{2 + (-2) + (-12)}{\\sqrt{1 + 4 + 16} \\sqrt{4 + 1 + 9}} \\\\\n",
    "        \\cos{\\beta} &= \\frac{(-12)}{\\sqrt{21} \\sqrt{14}}\n",
    "\\end{align}\n",
    "$$\n",
    "\n",
    "*Pythonic Solution*"
   ]
  },
  {
   "cell_type": "code",
   "execution_count": 383,
   "metadata": {},
   "outputs": [
    {
     "name": "stdout",
     "output_type": "stream",
     "text": [
      "1.g.\n",
      "angle =  -0.6998542122237653\n",
      "angle =  -0.6998542122237653\n"
     ]
    }
   ],
   "source": [
    "import numpy as np\n",
    "\n",
    "u = np.array([1, -2, 4])\n",
    "w = np.array([2, 1, -3])\n",
    "\n",
    "print(\"1.g.\")\n",
    "print(\"angle = \", u.dot(w) / (np.linalg.norm(u)*np.linalg.norm(w)))\n",
    "print(\"angle = \", (-12) / (np.sqrt(21)*np.sqrt(14)))"
   ]
  },
  {
   "cell_type": "markdown",
   "metadata": {},
   "source": [
    "**h. Find $d(\\textbf{u}, \\textbf{v})$**\n",
    "\n",
    "*Manual Solution*\n",
    "$$\n",
    "\\begin{align}\n",
    "    d(\\textbf{u}, \\textbf{v}) &= ||\\textbf{u} - \\textbf{v}|| \\\\\n",
    "        &= \\sqrt{(1 - 3)^2 + ((-2) - 5)^2 + (4 - 1)^2} \\\\\n",
    "        &= \\sqrt{(-2)^2 + (-7)^2 + 3^2} \\\\\n",
    "        &= \\sqrt{4 + 49 + 9} \\\\\n",
    "        d(\\textbf{u}, \\textbf{v}) &= \\sqrt{62}\n",
    "\\end{align}\n",
    "$$\n",
    "\n",
    "*Pythonic Solution*"
   ]
  },
  {
   "cell_type": "code",
   "execution_count": 384,
   "metadata": {},
   "outputs": [
    {
     "name": "stdout",
     "output_type": "stream",
     "text": [
      "1.h.\n",
      "d(u, v) =  7.874007874011811\n",
      "d(u, v) =  7.874007874011811\n"
     ]
    }
   ],
   "source": [
    "import numpy as np\n",
    "\n",
    "u = np.array([1, -2, 4])\n",
    "v = np.array([3, 5, 1])\n",
    "\n",
    "print(\"1.h.\")\n",
    "print(\"d(u, v) = \", np.linalg.norm(u-v))\n",
    "print(\"d(u, v) = \", np.sqrt(62))"
   ]
  },
  {
   "cell_type": "markdown",
   "metadata": {},
   "source": [
    "**i. Find $d(\\textbf{w}, \\textbf{v})$**\n",
    "\n",
    "*Manual Solution*\n",
    "$$\n",
    "\\begin{align}\n",
    "    d(\\textbf{w}, \\textbf{v}) &= ||\\textbf{w} - \\textbf{v}|| \\\\\n",
    "        &= \\sqrt{(2 - 3)^2 + (1 - 5)^2 + ((-3) - 1)^2} \\\\\n",
    "        &= \\sqrt{(-1)^2 + (-4)^2 + (-4)^2} \\\\\n",
    "        &= \\sqrt{1 + 16 + 16} \\\\\n",
    "        d(\\textbf{w}, \\textbf{v}) &= \\sqrt{33}\n",
    "\\end{align}\n",
    "$$\n",
    "\n",
    "*Pythonic Solution*"
   ]
  },
  {
   "cell_type": "code",
   "execution_count": 385,
   "metadata": {},
   "outputs": [
    {
     "name": "stdout",
     "output_type": "stream",
     "text": [
      "1.i.\n",
      "d(w, v) =  5.744562646538029\n",
      "d(w, v) =  5.744562646538029\n"
     ]
    }
   ],
   "source": [
    "import numpy as np\n",
    "\n",
    "w = np.array([2, 1, -3])\n",
    "v = np.array([3, 5, 1])\n",
    "\n",
    "print(\"1.i.\")\n",
    "print(\"d(w, v) = \", np.linalg.norm(w-v))\n",
    "print(\"d(w, v) = \", np.sqrt(33))"
   ]
  },
  {
   "cell_type": "markdown",
   "metadata": {},
   "source": [
    "**j. Find $d(\\textbf{u}, \\textbf{w})$**\n",
    "\n",
    "*Manual Solution*\n",
    "$$\n",
    "\\begin{align}\n",
    "    d(\\textbf{u}, \\textbf{w}) &= ||\\textbf{u} - \\textbf{w}|| \\\\\n",
    "        &= \\sqrt{(1 - 2)^2 + ((-2) - 1)^2 + (4 - (-3))^2} \\\\\n",
    "        &= \\sqrt{(-1)^2 + (-3)^2 + 7^2} \\\\\n",
    "        &= \\sqrt{1 + 9 + 49} \\\\\n",
    "        d(\\textbf{u}, \\textbf{v}) &= \\sqrt{59}\n",
    "\\end{align}\n",
    "$$\n",
    "\n",
    "*Pythonic Solution*"
   ]
  },
  {
   "cell_type": "code",
   "execution_count": 386,
   "metadata": {},
   "outputs": [
    {
     "name": "stdout",
     "output_type": "stream",
     "text": [
      "1.j.\n",
      "d(u, w) =  7.681145747868608\n",
      "d(u, w) =  7.681145747868608\n"
     ]
    }
   ],
   "source": [
    "import numpy as np\n",
    "\n",
    "u = np.array([1, -2, 4])\n",
    "w = np.array([2, 1, -3])\n",
    "\n",
    "print(\"1.j.\")\n",
    "print(\"d(u, w) = \", np.linalg.norm(u-w))\n",
    "print(\"d(u, w) = \", np.sqrt(59))"
   ]
  },
  {
   "cell_type": "markdown",
   "metadata": {},
   "source": [
    "**k. Find $proj(\\textbf{u}, \\textbf{v})$**\n",
    "\n",
    "*Manual Solution*\n",
    "$$\n",
    "\\begin{align}\n",
    "    proj(\\textbf{u}, \\textbf{v}) &= \\frac{\\textbf{u} \\cdotp \\textbf{v}}{||\\textbf{v}||^2} \\textbf{v} \\\\\n",
    "        &= \\frac{(1)(3) + (-2)(5) + (4)(1)}{(\\sqrt{3^2 + 5^2 + 1^2})^2} (3, 5, 1) \\\\\n",
    "        &= \\frac{3 - 10 + 4}{(\\sqrt{9 + 25 + 1})^2} (3, 5, 1) \\\\\n",
    "        &= \\frac{-3}{(\\sqrt{35})^2} (3, 5, 1) \\\\\n",
    "        &= \\frac{-3}{35} (3, 5, 1) \\\\\n",
    "        proj(\\textbf{u}, \\textbf{v}) &= (\\frac{-9}{35}, \\frac{-3}{7}, \\frac{-3}{35})\n",
    "\n",
    "\\end{align}\n",
    "$$\n",
    "\n",
    "*Pythonic Solution*"
   ]
  },
  {
   "cell_type": "code",
   "execution_count": 387,
   "metadata": {},
   "outputs": [
    {
     "name": "stdout",
     "output_type": "stream",
     "text": [
      "1.k.\n",
      "proj(u, v) =  [-0.25714286 -0.42857143 -0.08571429]\n",
      "proj(u, v) =  [-0.2571428571428571, -0.42857142857142855, -0.08571428571428572]\n"
     ]
    }
   ],
   "source": [
    "import numpy as np\n",
    "\n",
    "u = np.array([1, -2, 4])\n",
    "v = np.array([3, 5, 1])\n",
    "\n",
    "print(\"1.k.\")\n",
    "print(\"proj(u, v) = \", u.dot(v) * v / (np.linalg.norm(v) ** 2))\n",
    "print(\"proj(u, v) = \", [(-9)/35, (-3)/7, (-3)/35])"
   ]
  },
  {
   "cell_type": "markdown",
   "metadata": {},
   "source": [
    "**l. Find $proj(\\textbf{w}, \\textbf{v})$**\n",
    "\n",
    "*Manual Solution*\n",
    "$$\n",
    "\\begin{align}\n",
    "    proj(\\textbf{w}, \\textbf{v}) &= \\frac{\\textbf{w} \\cdotp \\textbf{v}}{||\\textbf{v}||^2} \\textbf{v} \\\\\n",
    "        &= \\frac{(2)(3) + (1)(5) + (-3)(1)}{(\\sqrt{3^2 + 5^2 + 1^2})^2} (3, 5, 1) \\\\\n",
    "        &= \\frac{6 + 5 - 3}{(\\sqrt{9 + 25 + 1})^2} (3, 5, 1) \\\\\n",
    "        &= \\frac{8}{(\\sqrt{35})^2} (3, 5, 1) \\\\\n",
    "        &= \\frac{8}{35} (3, 5, 1) \\\\\n",
    "        proj(\\textbf{w}, \\textbf{v}) &= (\\frac{24}{35}, \\frac{8}{7}, \\frac{8}{35})\n",
    "\n",
    "\\end{align}\n",
    "$$\n",
    "\n",
    "*Pythonic Solution*"
   ]
  },
  {
   "cell_type": "code",
   "execution_count": 388,
   "metadata": {},
   "outputs": [
    {
     "name": "stdout",
     "output_type": "stream",
     "text": [
      "1.l.\n",
      "proj(u, v) =  [0.68571429 1.14285714 0.22857143]\n",
      "proj(u, v) =  [0.6857142857142857, 1.1428571428571428, 0.22857142857142856]\n"
     ]
    }
   ],
   "source": [
    "import numpy as np\n",
    "\n",
    "w = np.array([2, 1, -3])\n",
    "v = np.array([3, 5, 1])\n",
    "\n",
    "print(\"1.l.\")\n",
    "print(\"proj(u, v) = \", w.dot(v) * v / (np.linalg.norm(v) ** 2))\n",
    "print(\"proj(u, v) = \", [24/35, 8/7, 8/35])"
   ]
  },
  {
   "cell_type": "markdown",
   "metadata": {},
   "source": [
    "**m. Find $proj(\\textbf{u}, \\textbf{w})$**\n",
    "\n",
    "*Manual Solution*\n",
    "$$\n",
    "\\begin{align}\n",
    "    proj(\\textbf{u}, \\textbf{w}) &= \\frac{\\textbf{u} \\cdotp \\textbf{w}}{||\\textbf{w}||^2} \\textbf{w} \\\\\n",
    "        &= \\frac{(1)(2) + (-2)(1) + (4)(-3)}{(\\sqrt{2^2 + 1^2 + -3^2})^2} (2, 1, -3) \\\\\n",
    "        &= \\frac{2 - 2 - 12}{(\\sqrt{4 + 1 + 9})^2} (2, 1, -3) \\\\\n",
    "        &= \\frac{-12}{(\\sqrt{14})^2} (2, 1, -3) \\\\\n",
    "        &= \\frac{-6}{7} (2, 1, -3) \\\\\n",
    "        proj(\\textbf{u}, \\textbf{w}) &= (\\frac{-12}{7}, \\frac{-6}{7}, \\frac{18}{7})\n",
    "\n",
    "\\end{align}\n",
    "$$\n",
    "\n",
    "*Pythonic Solution*"
   ]
  },
  {
   "cell_type": "code",
   "execution_count": 389,
   "metadata": {},
   "outputs": [
    {
     "name": "stdout",
     "output_type": "stream",
     "text": [
      "1.m.\n",
      "proj(u, w) =  [-1.71428571 -0.85714286  2.57142857]\n",
      "proj(u, w) =  [-1.7142857142857142, -0.8571428571428571, 2.5714285714285716]\n"
     ]
    }
   ],
   "source": [
    "import numpy as np\n",
    "\n",
    "u = np.array([1, -2, 4])\n",
    "w = np.array([2, 1, -3])\n",
    "\n",
    "print(\"1.m.\")\n",
    "print(\"proj(u, w) = \", u.dot(w) * w / (np.linalg.norm(w) ** 2))\n",
    "print(\"proj(u, w) = \", [-12/7, -6/7, 18/7])"
   ]
  },
  {
   "cell_type": "markdown",
   "metadata": {},
   "source": [
    "**2. Repeat problem 1 with the following column vectors:**\n",
    "$$\n",
    "\\begin{align}\n",
    "    \\textbf{u} &=\n",
    "        \\begin{bmatrix}\n",
    "            1 \\\\\n",
    "            3 \\\\\n",
    "            -4 \\\\\n",
    "        \\end{bmatrix},\n",
    "    \\textbf{v} &=\n",
    "        \\begin{bmatrix}\n",
    "            2 \\\\\n",
    "            1 \\\\\n",
    "            5 \\\\\n",
    "        \\end{bmatrix},\n",
    "    \\textbf{w} &=\n",
    "        \\begin{bmatrix}\n",
    "            3 \\\\\n",
    "            -2 \\\\\n",
    "            6 \\\\\n",
    "        \\end{bmatrix}\n",
    "\\end{align}\n",
    "$$\n",
    "**a. $3\\textbf{u} - 2\\textbf{v}$**\n",
    "\n",
    "*Manual Solution*\n",
    "$$\n",
    "\\begin{align}\n",
    "    3\\textbf{u} - 2\\textbf{v} &=\n",
    "        \\begin{bmatrix}\n",
    "            (3)(1) - (2)(2) \\\\\n",
    "            (3)(3) - (2)(1) \\\\\n",
    "            (3)(-4) - (2)(5) \\\\\n",
    "        \\end{bmatrix} \\\\ &=\n",
    "        \\begin{bmatrix}\n",
    "            3 - 4 \\\\\n",
    "            9 - 2 \\\\\n",
    "            (-12) - 10 \\\\\n",
    "        \\end{bmatrix} \\\\ 3\\textbf{u} - 2\\textbf{v} &=\n",
    "        \\begin{bmatrix}\n",
    "            -1 \\\\\n",
    "            7 \\\\\n",
    "            -22 \\\\\n",
    "        \\end{bmatrix}\n",
    "\\end{align}\n",
    "$$\n",
    "\n",
    "*Pythonic Solution*"
   ]
  },
  {
   "cell_type": "code",
   "execution_count": 390,
   "metadata": {},
   "outputs": [
    {
     "name": "stdout",
     "output_type": "stream",
     "text": [
      "2.a. 3u + 2v =  [ -1   7 -22]\n"
     ]
    }
   ],
   "source": [
    "import numpy as np\n",
    "\n",
    "u = np.array([1, 3, -4])\n",
    "v = np.array([2, 1, 5])\n",
    "\n",
    "print(\"2.a. 3u + 2v = \", 3*u - 2*v)"
   ]
  },
  {
   "cell_type": "markdown",
   "metadata": {},
   "source": [
    "**b. $5\\textbf{u} + 3\\textbf{v} - 4\\textbf{w}$**\n",
    "\n",
    "*Manual Solution*\n",
    "$$\n",
    "\\begin{align}\n",
    "    5\\textbf{u} + 3\\textbf{v} - 4\\textbf{w} &=\n",
    "        \\begin{bmatrix}\n",
    "            (5)(1) + (3)(2) - (4)(3) \\\\\n",
    "            (5)(3) + (3)(1) - (4)(-2) \\\\\n",
    "            (5)(-4) + (3)(5) - (4)(6) \\\\\n",
    "        \\end{bmatrix} \\\\ &=\n",
    "        \\begin{bmatrix}\n",
    "            5 + 6 - 12 \\\\\n",
    "            15 + 3 - (-8) \\\\\n",
    "            (-20) + 15 - 24 \\\\\n",
    "        \\end{bmatrix} \\\\ 5\\textbf{u} + 3\\textbf{v} - 4\\textbf{w} &=\n",
    "        \\begin{bmatrix}\n",
    "            -1 \\\\\n",
    "            26 \\\\\n",
    "            -29 \\\\\n",
    "        \\end{bmatrix}\n",
    "\\end{align}\n",
    "$$\n",
    "\n",
    "*Pythonic Solution*"
   ]
  },
  {
   "cell_type": "code",
   "execution_count": 391,
   "metadata": {},
   "outputs": [
    {
     "name": "stdout",
     "output_type": "stream",
     "text": [
      "2.b. 5u + 3v - 4w =  [ -1  26 -29]\n"
     ]
    }
   ],
   "source": [
    "import numpy as np\n",
    "\n",
    "u = np.array([1, 3, -4])\n",
    "v = np.array([2, 1, 5])\n",
    "w = np.array([3, -2, 6])\n",
    "\n",
    "print(\"2.b. 5u + 3v - 4w = \", 5*u + 3*v - 4*w)"
   ]
  },
  {
   "cell_type": "markdown",
   "metadata": {},
   "source": [
    "**c. $\\textbf{u} \\cdotp \\textbf{v}$, $\\textbf{v} \\cdotp \\textbf{w}$, $\\textbf{u} \\cdotp \\textbf{w}$**\n",
    "\n",
    "*Manual Solution*\n",
    "$$\n",
    "\\begin{align}\n",
    "    \\textbf{u} \\cdotp \\textbf{v} &= (1)(2) + (3)(1) + (-4)(5) \\\\\n",
    "        &= (2) + (3) + (-20) \\\\\n",
    "    \\textbf{u} \\cdotp \\textbf{v} &= -15\n",
    "\\end{align}\n",
    "$$\n",
    "\n",
    "$$\n",
    "\\begin{align}\n",
    "    \\textbf{v} \\cdotp \\textbf{w} &= (2)(3) + (1)(-2) + (5)(6) \\\\\n",
    "        &= (6) + (-2) + (30) \\\\\n",
    "    \\textbf{v} \\cdotp \\textbf{w} &= 34\n",
    "\\end{align}\n",
    "$$\n",
    "\n",
    "$$\n",
    "\\begin{align}\n",
    "    \\textbf{u} \\cdotp \\textbf{w} &= (1)(3) + (3)(-2) + (-4)(6) \\\\\n",
    "        &= (3) + (-6) + (-24) \\\\\n",
    "    \\textbf{u} \\cdotp \\textbf{w} &= -27\n",
    "\\end{align}\n",
    "$$\n",
    "\n",
    "*Pythonic Solution*"
   ]
  },
  {
   "cell_type": "code",
   "execution_count": 392,
   "metadata": {},
   "outputs": [
    {
     "name": "stdout",
     "output_type": "stream",
     "text": [
      "2.c.\n",
      "u.v =  -15\n",
      "v.w =  34\n",
      "u.w =  -27\n"
     ]
    }
   ],
   "source": [
    "import numpy as np\n",
    "\n",
    "u = np.array([1, 3, -4])\n",
    "v = np.array([2, 1, 5])\n",
    "w = np.array([3, -2, 6])\n",
    "\n",
    "print(\"2.c.\")\n",
    "print(\"u.v = \", u.dot(v))\n",
    "print(\"v.w = \", v.dot(w))\n",
    "print(\"u.w = \", u.dot(w))"
   ]
  },
  {
   "cell_type": "markdown",
   "metadata": {},
   "source": [
    "**d. $||\\textbf{u}||$, $||\\textbf{v}||$, $||\\textbf{w}||$**\n",
    "\n",
    "*Manual Solution*\n",
    "$$\n",
    "\\begin{align}\n",
    "    ||\\textbf{u}|| &= \\sqrt{1^2 + 3^2 + (-4)^2} \\\\\n",
    "        &= \\sqrt{1 + 9 + 16} \\\\\n",
    "    ||\\textbf{u}|| &= \\sqrt{26}\n",
    "\\end{align}\n",
    "$$\n",
    "\n",
    "$$\n",
    "\\begin{align}\n",
    "    ||\\textbf{v}|| &= \\sqrt{2^2 + 1^2 + 5^2} \\\\\n",
    "        &= \\sqrt{4 + 1 + 25} \\\\\n",
    "        ||\\textbf{v}|| &= \\sqrt{30}\n",
    "\\end{align}\n",
    "$$\n",
    "\n",
    "$$\n",
    "\\begin{align}\n",
    "    ||\\textbf{w}|| &= \\sqrt{3^2 + (-2)^2 + 6^2} \\\\\n",
    "        &= \\sqrt{9 + 4 + 36} \\\\\n",
    "        ||\\textbf{w}|| &= \\sqrt{49}\n",
    "\\end{align}\n",
    "$$\n",
    "\n",
    "*Pythonic Solution*"
   ]
  },
  {
   "cell_type": "code",
   "execution_count": 393,
   "metadata": {},
   "outputs": [
    {
     "name": "stdout",
     "output_type": "stream",
     "text": [
      "2.d.\n",
      "||u|| =  5.0990195135927845\n",
      "||u|| =  5.0990195135927845\n",
      "\n",
      "||v|| =  5.477225575051661\n",
      "||v|| =  5.477225575051661\n",
      "\n",
      "||w|| =  7.0\n",
      "||w|| =  7.0\n"
     ]
    }
   ],
   "source": [
    "import numpy as np\n",
    "\n",
    "u = np.array([1, 3, -4])\n",
    "v = np.array([2, 1, 5])\n",
    "w = np.array([3, -2, 6])\n",
    "\n",
    "print(\"2.d.\")\n",
    "print(\"||u|| = \", np.sqrt(u.dot(u)))\n",
    "print(\"||u|| = \", np.sqrt(26))\n",
    "print()\n",
    "print(\"||v|| = \", np.sqrt(v.dot(v)))\n",
    "print(\"||v|| = \", np.sqrt(30))\n",
    "print()\n",
    "print(\"||w|| = \", np.sqrt(w.dot(w)))\n",
    "print(\"||w|| = \", np.sqrt(49))"
   ]
  },
  {
   "cell_type": "markdown",
   "metadata": {},
   "source": [
    "**e. if $\\theta$ is the angle between $\\textbf{u}$ and $\\textbf{v}$, find $\\cos{\\theta}$.**\n",
    "\n",
    "*Manual Solution*\n",
    "$$\n",
    "\\begin{align}\n",
    "    \\cos{\\theta} &= \\frac{\\textbf{u} \\cdotp \\textbf{v}}{||\\textbf{u}|| \\ ||\\textbf{v}||} \\\\\n",
    "        &= \\frac{(1)(2) + (3)(1) + (-4)(5)}{\\sqrt{1^2 + 3^2 + (-4)^2} \\sqrt{2^2 + 1^2 + 5^2}} \\\\\n",
    "        &= \\frac{2 + 3 + (-20)}{\\sqrt{1 + 9 + 16} \\sqrt{4 + 1 + 25}} \\\\\n",
    "        \\cos{\\theta} &= \\frac{-15}{\\sqrt{26} \\sqrt{30}}\n",
    "\\end{align}\n",
    "$$\n",
    "\n",
    "*Pythonic Solution*"
   ]
  },
  {
   "cell_type": "code",
   "execution_count": 394,
   "metadata": {},
   "outputs": [
    {
     "name": "stdout",
     "output_type": "stream",
     "text": [
      "2.e.\n",
      "angle =  -0.5370861555295747\n",
      "angle =  -0.5370861555295747\n"
     ]
    }
   ],
   "source": [
    "import numpy as np\n",
    "\n",
    "u = np.array([1, 3, -4])\n",
    "v = np.array([2, 1, 5])\n",
    "\n",
    "print(\"2.e.\")\n",
    "print(\"angle = \", u.dot(v) / (np.linalg.norm(u)*np.linalg.norm(v)))\n",
    "print(\"angle = \", (-15) / (np.sqrt(26)*np.sqrt(30)))"
   ]
  },
  {
   "cell_type": "markdown",
   "metadata": {},
   "source": [
    "**f. if $\\alpha$ is the angle between $\\textbf{v}$ and $\\textbf{w}$, find $\\cos{\\alpha}$.**\n",
    "\n",
    "*Manual Selection*\n",
    "$$\n",
    "\\begin{align}\n",
    "    \\cos{\\alpha} &= \\frac{\\textbf{v} \\cdotp \\textbf{w}}{||\\textbf{v}|| \\ ||\\textbf{w}||} \\\\\n",
    "        &= \\frac{(2)(3) + (1)(-2) + (5)(6)}{\\sqrt{2^2 + 1^2 + 5^2} \\sqrt{3^2 + (-2)^2 + 6^2}} \\\\\n",
    "        &= \\frac{6 + (-2) + 30}{\\sqrt{4 + 1 + 25} \\sqrt{9 + 4 + 36}} \\\\\n",
    "        \\cos{\\alpha} &= \\frac{34}{\\sqrt{30} \\sqrt{49}}\n",
    "\\end{align}\n",
    "$$\n",
    "\n",
    "*Pythonic Solution*"
   ]
  },
  {
   "cell_type": "code",
   "execution_count": 395,
   "metadata": {},
   "outputs": [
    {
     "name": "stdout",
     "output_type": "stream",
     "text": [
      "2.f.\n",
      "angle =  0.8867889026274118\n",
      "angle =  0.8867889026274118\n"
     ]
    }
   ],
   "source": [
    "import numpy as np\n",
    "\n",
    "v = np.array([2, 1, 5])\n",
    "w = np.array([3, -2, 6])\n",
    "\n",
    "print(\"2.f.\")\n",
    "print(\"angle = \", v.dot(w) / (np.linalg.norm(v)*np.linalg.norm(w)))\n",
    "print(\"angle = \", 34 / (np.sqrt(30)*np.sqrt(49)))"
   ]
  },
  {
   "cell_type": "markdown",
   "metadata": {},
   "source": [
    "**g. if $\\beta$ is the angle between $\\textbf{u}$ and $\\textbf{w}$, find $\\cos{\\beta}$.**\n",
    "\n",
    "*Manual Selection*\n",
    "$$\n",
    "\\begin{align}\n",
    "    \\cos{\\beta} &= \\frac{\\textbf{u} \\cdotp \\textbf{w}}{||\\textbf{u}|| \\ ||\\textbf{w}||} \\\\\n",
    "        &= \\frac{(1)(3) + (3)(-2) + (-4)(6)}{\\sqrt{1^2 + 3^2 + (-4)^2} \\sqrt{3^2 + (-2)^2 + 6^2}} \\\\\n",
    "        &= \\frac{3 + (-6) + (-24)}{\\sqrt{1 + 9 + 16} \\sqrt{9 + 4 + 36}} \\\\\n",
    "        \\cos{\\beta} &= \\frac{(-27)}{\\sqrt{26} \\sqrt{49}}\n",
    "\\end{align}\n",
    "$$\n",
    "\n",
    "*Pythonic Solution*"
   ]
  },
  {
   "cell_type": "code",
   "execution_count": 396,
   "metadata": {},
   "outputs": [
    {
     "name": "stdout",
     "output_type": "stream",
     "text": [
      "2.g.\n",
      "angle =  -0.7564479498187099\n",
      "angle =  -0.7564479498187099\n"
     ]
    }
   ],
   "source": [
    "import numpy as np\n",
    "\n",
    "u = np.array([1, 3, -4])\n",
    "w = np.array([3, -2, 6])\n",
    "\n",
    "print(\"2.g.\")\n",
    "print(\"angle = \", u.dot(w) / (np.linalg.norm(u)*np.linalg.norm(w)))\n",
    "print(\"angle = \", (-27) / (np.sqrt(26)*np.sqrt(49)))"
   ]
  },
  {
   "cell_type": "markdown",
   "metadata": {},
   "source": [
    "**h. Find $d(\\textbf{u}, \\textbf{v})$**\n",
    "\n",
    "*Manual Solution*\n",
    "$$\n",
    "\\begin{align}\n",
    "    d(\\textbf{u}, \\textbf{v}) &= ||\\textbf{u} - \\textbf{v}|| \\\\\n",
    "        &= \\sqrt{(1 - 2)^2 + (3 - 1)^2 + ((-4) - 5)^2} \\\\\n",
    "        &= \\sqrt{(-1)^2 + 2^2 + (-9)^2} \\\\\n",
    "        &= \\sqrt{1 + 4 + 81} \\\\\n",
    "        d(\\textbf{u}, \\textbf{v}) &= \\sqrt{86}\n",
    "\\end{align}\n",
    "$$\n",
    "\n",
    "*Pythonic Solution*"
   ]
  },
  {
   "cell_type": "code",
   "execution_count": 397,
   "metadata": {},
   "outputs": [
    {
     "name": "stdout",
     "output_type": "stream",
     "text": [
      "2.h.\n",
      "d(u, v) =  9.273618495495704\n",
      "d(u, v) =  9.273618495495704\n"
     ]
    }
   ],
   "source": [
    "import numpy as np\n",
    "\n",
    "u = np.array([1, 3, -4])\n",
    "v = np.array([2, 1, 5])\n",
    "\n",
    "print(\"2.h.\")\n",
    "print(\"d(u, v) = \", np.linalg.norm(u-v))\n",
    "print(\"d(u, v) = \", np.sqrt(86))"
   ]
  },
  {
   "cell_type": "markdown",
   "metadata": {},
   "source": [
    "**i. Find $d(\\textbf{w}, \\textbf{v})$**\n",
    "\n",
    "*Manual Solution*\n",
    "$$\n",
    "\\begin{align}\n",
    "    d(\\textbf{w}, \\textbf{v}) &= ||\\textbf{w} - \\textbf{v}|| \\\\\n",
    "        &= \\sqrt{(3 - 2)^2 + ((-2) - 1)^2 + (6 - 5)^2} \\\\\n",
    "        &= \\sqrt{1^2 + (-3)^2 + 1^2} \\\\\n",
    "        &= \\sqrt{1 + 9 + 1} \\\\\n",
    "        d(\\textbf{w}, \\textbf{v}) &= \\sqrt{11}\n",
    "\\end{align}\n",
    "$$\n",
    "\n",
    "*Pythonic Solution*"
   ]
  },
  {
   "cell_type": "code",
   "execution_count": 398,
   "metadata": {},
   "outputs": [
    {
     "name": "stdout",
     "output_type": "stream",
     "text": [
      "2.i.\n",
      "d(w, v) =  3.3166247903554\n",
      "d(w, v) =  3.3166247903554\n"
     ]
    }
   ],
   "source": [
    "import numpy as np\n",
    "\n",
    "w = np.array([3, -2, 6])\n",
    "v = np.array([2, 1, 5])\n",
    "\n",
    "print(\"2.i.\")\n",
    "print(\"d(w, v) = \", np.linalg.norm(w-v))\n",
    "print(\"d(w, v) = \", np.sqrt(11))"
   ]
  },
  {
   "cell_type": "markdown",
   "metadata": {},
   "source": [
    "**j. Find $d(\\textbf{u}, \\textbf{w})$**\n",
    "\n",
    "*Manual Solution*\n",
    "$$\n",
    "\\begin{align}\n",
    "    d(\\textbf{u}, \\textbf{w}) &= ||\\textbf{u} - \\textbf{w}|| \\\\\n",
    "        &= \\sqrt{(1 - 3)^2 + (3 - (-2))^2 + ((-4) - 6)^2} \\\\\n",
    "        &= \\sqrt{(-2)^2 + 5^2 + (-10)^2} \\\\\n",
    "        &= \\sqrt{4 + 25 + 100} \\\\\n",
    "        d(\\textbf{u}, \\textbf{v}) &= \\sqrt{129}\n",
    "\\end{align}\n",
    "$$\n",
    "\n",
    "*Pythonic Solution*"
   ]
  },
  {
   "cell_type": "code",
   "execution_count": 399,
   "metadata": {},
   "outputs": [
    {
     "name": "stdout",
     "output_type": "stream",
     "text": [
      "2.j.\n",
      "d(u, w) =  11.357816691600547\n",
      "d(u, w) =  11.357816691600547\n"
     ]
    }
   ],
   "source": [
    "import numpy as np\n",
    "\n",
    "u = np.array([1, 3, -4])\n",
    "w = np.array([3, -2, 6])\n",
    "\n",
    "print(\"2.j.\")\n",
    "print(\"d(u, w) = \", np.linalg.norm(u-w))\n",
    "print(\"d(u, w) = \", np.sqrt(129))"
   ]
  },
  {
   "cell_type": "markdown",
   "metadata": {},
   "source": [
    "**k. Find $proj(\\textbf{u}, \\textbf{v})$**\n",
    "\n",
    "*Manual Solution*\n",
    "$$\n",
    "\\begin{align}\n",
    "    proj(\\textbf{u}, \\textbf{v}) &= \\frac{\\textbf{u} \\cdotp \\textbf{v}}{||\\textbf{v}||^2} \\textbf{v} \\\\\n",
    "        &= \\frac{(1)(2) + (3)(1) + (-4)(5)}{(\\sqrt{2^2 + 1^2 + 5^2})^2} (2, 1, 5) \\\\\n",
    "        &= \\frac{2 + 3 + (-20)}{(\\sqrt{4 + 1 + 25})^2} (2, 1, 5) \\\\\n",
    "        &= \\frac{-15}{(\\sqrt{30})^2} (2, 1, 5) \\\\\n",
    "        &= \\frac{-15}{30} (2, 1, 5) \\\\\n",
    "        proj(\\textbf{u}, \\textbf{v}) &= (-1, \\frac{-1}{2}, \\frac{-5}{2})\n",
    "\n",
    "\\end{align}\n",
    "$$\n",
    "\n",
    "*Pythonic Solution*"
   ]
  },
  {
   "cell_type": "code",
   "execution_count": 400,
   "metadata": {},
   "outputs": [
    {
     "name": "stdout",
     "output_type": "stream",
     "text": [
      "2.k.\n",
      "proj(u, v) =  [-1.  -0.5 -2.5]\n",
      "proj(u, v) =  [-1, -0.5, -2.5]\n"
     ]
    }
   ],
   "source": [
    "import numpy as np\n",
    "\n",
    "u = np.array([1, 3, -4])\n",
    "v = np.array([2, 1, 5])\n",
    "\n",
    "print(\"2.k.\")\n",
    "print(\"proj(u, v) = \", u.dot(v) * v / (np.linalg.norm(v) ** 2))\n",
    "print(\"proj(u, v) = \", [(-1), (-1)/2, (-5)/2])"
   ]
  },
  {
   "cell_type": "markdown",
   "metadata": {},
   "source": [
    "**l. Find $proj(\\textbf{w}, \\textbf{v})$**\n",
    "\n",
    "*Manual Solution*\n",
    "$$\n",
    "\\begin{align}\n",
    "    proj(\\textbf{w}, \\textbf{v}) &= \\frac{\\textbf{w} \\cdotp \\textbf{v}}{||\\textbf{v}||^2} \\textbf{v} \\\\\n",
    "        &= \\frac{(3)(2) + (-2)(1) + (6)(5)}{(\\sqrt{2^2 + 1^2 + 5^2})^2} (2, 1, 5)) \\\\\n",
    "        &= \\frac{6 + (-2) + 30}{(\\sqrt{4 + 1 + 25})^2} (2, 1, 5) \\\\\n",
    "        &= \\frac{34}{(\\sqrt{30})^2} (2, 1, 5) \\\\\n",
    "        &= \\frac{34}{30} (2, 1, 5) \\\\\n",
    "        proj(\\textbf{w}, \\textbf{v}) &= (\\frac{68}{30}, \\frac{34}{30}, \\frac{170}{30})\n",
    "\n",
    "\\end{align}\n",
    "$$\n",
    "\n",
    "*Pythonic Solution*"
   ]
  },
  {
   "cell_type": "code",
   "execution_count": 401,
   "metadata": {},
   "outputs": [
    {
     "name": "stdout",
     "output_type": "stream",
     "text": [
      "2.l.\n",
      "proj(u, v) =  [2.26666667 1.13333333 5.66666667]\n",
      "proj(u, v) =  [2.2666666666666666, 1.1333333333333333, 5.666666666666667]\n"
     ]
    }
   ],
   "source": [
    "import numpy as np\n",
    "\n",
    "w = np.array([3, -2, 6])\n",
    "v = np.array([2, 1, 5])\n",
    "\n",
    "print(\"2.l.\")\n",
    "print(\"proj(u, v) = \", w.dot(v) * v / (np.linalg.norm(v) ** 2))\n",
    "print(\"proj(u, v) = \", [68/30, 34/30, 170/30])"
   ]
  },
  {
   "cell_type": "markdown",
   "metadata": {},
   "source": [
    "**m. Find $proj(\\textbf{u}, \\textbf{w})$**\n",
    "\n",
    "*Manual Solution*\n",
    "$$\n",
    "\\begin{align}\n",
    "    proj(\\textbf{u}, \\textbf{w}) &= \\frac{\\textbf{u} \\cdotp \\textbf{w}}{||\\textbf{w}||^2} \\textbf{w} \\\\\n",
    "        &= \\frac{(1)(3) + (3)(-2) + (-4)(6)}{(\\sqrt{3^2 + (-2)^2 + 6^2})^2} (3, -2, 6) \\\\\n",
    "        &= \\frac{3 - 6 - 24}{(\\sqrt{9 + 4 + 36})^2} (3, -2, 6) \\\\\n",
    "        &= \\frac{-27}{(\\sqrt{49})^2} (3, -2, 6) \\\\\n",
    "        &= \\frac{-27}{49} (3, -2, 6) \\\\\n",
    "        proj(\\textbf{u}, \\textbf{w}) &= (\\frac{-81}{49}, \\frac{54}{49}, \\frac{-162}{49})\n",
    "\n",
    "\\end{align}\n",
    "$$\n",
    "\n",
    "*Pythonic Solution*"
   ]
  },
  {
   "cell_type": "code",
   "execution_count": 402,
   "metadata": {},
   "outputs": [
    {
     "name": "stdout",
     "output_type": "stream",
     "text": [
      "2.m.\n",
      "proj(u, w) =  [-1.65306122  1.10204082 -3.30612245]\n",
      "proj(u, w) =  [-1.653061224489796, 1.1020408163265305, -3.306122448979592]\n"
     ]
    }
   ],
   "source": [
    "import numpy as np\n",
    "\n",
    "u = np.array([1, 3, -4])\n",
    "w = np.array([3, -2, 6])\n",
    "\n",
    "print(\"2.m.\")\n",
    "print(\"proj(u, w) = \", u.dot(w) * w / (np.linalg.norm(w) ** 2))\n",
    "print(\"proj(u, w) = \", [(-81)/49, 54/49, ((-162)/49)])"
   ]
  },
  {
   "cell_type": "markdown",
   "metadata": {},
   "source": [
    "**3. Let $\\textbf{u}$ = (2, -5, 4, 6, -3), $\\textbf{v}$ = (5, -2, 1, -7, 4), $\\textbf{w}$ = (2, 1, -3) find:**\n",
    "**a. 4$\\textbf{u}$ - 3$\\textbf{v}$**\n",
    "\n",
    "*Manual Solution*\n",
    "$$\n",
    "\\begin{align}\n",
    "    4\\textbf{u} - 3\\textbf{v} &= 4(2, (-5), 4, 6, (-3)) - 3(5, (-2), 1, (-7), 4) \\\\\n",
    "        &= (8, (-20), 16, 24, (-12)) - (15, (-6), 3, (-21), 12) \\\\\n",
    "        &= ((8 - 15), ((-20) - (-6)), (16 - 3), (24 - (-21)), ((-12) - 12)) \\\\\n",
    "        4\\textbf{u} - 3\\textbf{v} &= (-7, -14, 13, 45, -24)\n",
    "\\end{align}\n",
    "$$\n",
    "\n",
    "*Pythonic Solution*"
   ]
  },
  {
   "cell_type": "code",
   "execution_count": 403,
   "metadata": {},
   "outputs": [
    {
     "name": "stdout",
     "output_type": "stream",
     "text": [
      "3.a. 4u - 3v =  [ -7 -14  13  45 -24]\n"
     ]
    }
   ],
   "source": [
    "import numpy as np\n",
    "\n",
    "u = np.array([2, -5, 4, 6, -3])\n",
    "v = np.array([5, -2, 1, -7, 4])\n",
    "\n",
    "print(\"3.a. 4u - 3v = \", 4 * u - 3 * v)"
   ]
  },
  {
   "cell_type": "markdown",
   "metadata": {},
   "source": [
    "**b. 5$\\textbf{u}$ + 2$\\textbf{v}$ - 2$\\textbf{w}$**\n",
    "\n",
    "*Manual Solution*\n",
    "$$\n",
    "\\begin{align}\n",
    "    5\\textbf{u} + 2\\textbf{v} - 2\\textbf{w} &= 5(2, (-5), 4, 6, (-3)) + 2(5, (-2), 1, (-7), (-4)) - 2(2, 1, (-3), 0, 0) \\\\\n",
    "        &= (10, (-25), 20, 30, (-15)) + (10, (-4), 2, (-14), (-8)) - (4, 2, (-6), 0, 0) \\\\\n",
    "        &= ((10 + 10 -4), ((-25) + (-4) - 2), (20 + 2 - (-6)), (30 + (-14) - 0), ((-15) + (-8) - 0)) \\\\\n",
    "        5\\textbf{u} + 2\\textbf{v} - 2\\textbf{w} &= (16, (-31), 28, 16, (-23))\n",
    "\\end{align}\n",
    "$$\n",
    "\n",
    "*Pyhtonic Solution*"
   ]
  },
  {
   "cell_type": "code",
   "execution_count": 404,
   "metadata": {},
   "outputs": [
    {
     "name": "stdout",
     "output_type": "stream",
     "text": [
      "3.b. 5u + 2v - 2w =  [ 16 -31  28  16 -23]\n"
     ]
    }
   ],
   "source": [
    "import numpy as np\n",
    "\n",
    "u = np.array([2, -5, 4, 6, -3])\n",
    "v = np.array([5, -2, 1, -7, -4])\n",
    "w = np.array([2, 1, -3, 0, 0])\n",
    "\n",
    "print(\"3.b. 5u + 2v - 2w = \", (5 * u) + (2 * v) - (2 * w))"
   ]
  },
  {
   "cell_type": "markdown",
   "metadata": {},
   "source": [
    "**c. $\\textbf{u} \\cdotp \\textbf{v}$, $\\textbf{v} \\cdotp \\textbf{w}$, $\\textbf{u} \\cdotp \\textbf{w}$**\n",
    "\n",
    "*Manual Solution*\n",
    "$$\n",
    "\\begin{align}\n",
    "    \\textbf{u} \\cdotp \\textbf{v} &= (2)(5) + (-5)(-2) + (4)(1) + (6)(-7) + (-3)(-4) \\\\\n",
    "        &= 10 + 10 + 4 + (-42) + 12 \\\\\n",
    "        \\textbf{u} \\cdotp \\textbf{v} &= -6\n",
    "\\end{align}\n",
    "$$\n",
    "\n",
    "$$\n",
    "\\begin{align}\n",
    "    \\textbf{v} \\cdotp \\textbf{w} &= (5)(2) + (-2)(1) + (1)(-3) + (-7)(0) + (-4)(0) \\\\\n",
    "        &= 10 + (-2) + (-3) + 0 + 0 \\\\\n",
    "        \\textbf{u} \\cdotp \\textbf{v} &= 5\n",
    "\\end{align}\n",
    "$$\n",
    "\n",
    "$$\n",
    "\\begin{align}\n",
    "    \\textbf{u} \\cdotp \\textbf{v} &= (2)(2) + (-5)(1) + (4)(-3) + (6)(0) + (-3)(0) \\\\\n",
    "        &= 4 + (-5) + (-12) + 0 + 0 \\\\\n",
    "        \\textbf{u} \\cdotp \\textbf{v} &= -13\n",
    "\\end{align}\n",
    "$$\n",
    "\n",
    "*Pythonic Solution*"
   ]
  },
  {
   "cell_type": "code",
   "execution_count": 405,
   "metadata": {},
   "outputs": [
    {
     "name": "stdout",
     "output_type": "stream",
     "text": [
      "3.c.\n",
      "u.v =  -6\n",
      "v.w =  5\n",
      "u.w =  -13\n"
     ]
    }
   ],
   "source": [
    "import numpy as np\n",
    "\n",
    "u = np.array([2, -5, 4, 6, -3])\n",
    "v = np.array([5, -2, 1, -7, -4])\n",
    "w = np.array([2, 1, -3, 0, 0])\n",
    "\n",
    "print(\"3.c.\")\n",
    "print(\"u.v = \", u.dot(v))\n",
    "print(\"v.w = \", v.dot(w))\n",
    "print(\"u.w = \", u.dot(w))"
   ]
  },
  {
   "cell_type": "markdown",
   "metadata": {},
   "source": [
    "**d. $||\\textbf{u}||$, $||\\textbf{v}||$, $||\\textbf{w}||$**\n",
    "\n",
    "*Manual Solution*\n",
    "$$\n",
    "\\begin{align}\n",
    "    ||\\textbf{u}|| &= \\sqrt{2^2 + (-5)^2 + 4^2 + 6^2 + (-3)^2} \\\\\n",
    "        &= \\sqrt{4 + 25 + 16 + 36 + 9} \\\\\n",
    "        ||\\textbf{u}|| &= \\sqrt{90}\n",
    "\\end{align}\n",
    "$$\n",
    "\n",
    "$$\n",
    "\\begin{align}\n",
    "    ||\\textbf{v}|| &= \\sqrt{5^2 + (-2)^2 + 1^2 + (-7)^2 + (-4)^2} \\\\\n",
    "        &= \\sqrt{25 + 4 + 1 + 49 + 16} \\\\\n",
    "        ||\\textbf{u}|| &= \\sqrt{95}\n",
    "\\end{align}\n",
    "$$\n",
    "\n",
    "$$\n",
    "\\begin{align}\n",
    "    ||\\textbf{w}|| &= \\sqrt{2^2 + 1^2 + (-3)^2 + 0^2 + 0^2} \\\\\n",
    "        &= \\sqrt{4 + 1 + 9 + 0 + 0} \\\\\n",
    "        ||\\textbf{u}|| &= \\sqrt{14}\n",
    "\\end{align}\n",
    "$$\n",
    "\n",
    "*Pythonic Solution*"
   ]
  },
  {
   "cell_type": "code",
   "execution_count": 406,
   "metadata": {},
   "outputs": [
    {
     "name": "stdout",
     "output_type": "stream",
     "text": [
      "3.d.\n",
      "||u|| =  9.486832980505138\n",
      "||u|| =  9.486832980505138\n",
      "\n",
      "||v|| =  9.746794344808963\n",
      "||v|| =  9.746794344808963\n",
      "\n",
      "||w|| =  3.7416573867739413\n",
      "||w|| =  3.7416573867739413\n"
     ]
    }
   ],
   "source": [
    "import numpy as np\n",
    "\n",
    "u = np.array([2, -5, 4, 6, -3])\n",
    "v = np.array([5, -2, 1, -7, -4])\n",
    "w = np.array([2, 1, -3, 0, 0])\n",
    "\n",
    "print(\"3.d.\")\n",
    "print(\"||u|| = \", np.sqrt(u.dot(u)))\n",
    "print(\"||u|| = \", np.sqrt(90))\n",
    "print()\n",
    "print(\"||v|| = \", np.sqrt(v.dot(v)))\n",
    "print(\"||v|| = \", np.sqrt(95))\n",
    "print()\n",
    "print(\"||w|| = \", np.sqrt(w.dot(w)))\n",
    "print(\"||w|| = \", np.sqrt(14))"
   ]
  },
  {
   "cell_type": "markdown",
   "metadata": {},
   "source": [
    "**e. If $\\theta$ is the angle between $\\textbf{u}$ and $\\textbf{v}$, find cos $\\theta$.**\n",
    "\n",
    "*Manual Solution*\n",
    "$$\n",
    "\\begin{align}\n",
    "    \\cos \\theta &= \\frac{\\textbf{u} \\cdotp \\textbf{v}}{||\\textbf{u}|| ||\\textbf{v}||} \\\\\n",
    "        &= \\frac{(2)(5) + (-5)(-2) + (4)(1) + (6)(-7) + (-3)(-4)}{\\sqrt{2^2 + (-5)^2 + 4^2 + 6^2 + (-3)^2}\n",
    "            \\sqrt{5^2 + (-2)^2 + 1^2 + (-7)^2 + (-4)^2}} \\\\\n",
    "        &= \\frac{10 + 10 + 4 + (-42) + 12}{\\sqrt{4 + 25 + 16 + 36 + 9} \\sqrt{25 + 4 + 1 + 49 + 16}} \\\\\n",
    "        \\cos \\theta &= \\frac{-6}{\\sqrt{90} \\sqrt{95}}\n",
    "\\end{align}\n",
    "$$"
   ]
  },
  {
   "cell_type": "code",
   "execution_count": 407,
   "metadata": {},
   "outputs": [
    {
     "name": "stdout",
     "output_type": "stream",
     "text": [
      "3.e.\n",
      "angle =  -0.06488856845230502\n",
      "angle =  -0.06488856845230502\n"
     ]
    }
   ],
   "source": [
    "import numpy as np\n",
    "\n",
    "u = np.array([2, -5, 4, 6, -3])\n",
    "v = np.array([5, -2, 1, -7, -4])\n",
    "\n",
    "print(\"3.e.\")\n",
    "print(\"angle = \", u.dot(v) / (np.linalg.norm(u)*np.linalg.norm(v)))\n",
    "print(\"angle = \", (-6) / (np.sqrt(90)*np.sqrt(95)))"
   ]
  },
  {
   "cell_type": "markdown",
   "metadata": {},
   "source": [
    "**f. If $\\alpha$ is the angle between $\\textbf{v}$ and $\\textbf{w}$, find cos $\\alpha$.**\n",
    "\n",
    "*Manual Solution*\n",
    "$$\n",
    "\\begin{align}\n",
    "    \\cos \\alpha &= \\frac{\\textbf{v} \\cdotp \\textbf{w}}{||\\textbf{v}|| ||\\textbf{w}||} \\\\\n",
    "        &= \\frac{(5)(2) + (-2)(1) + (1)(-3) + (-7)(0) + (-4)(0)}{\\sqrt{5^2 + (-2)^2 + 1^2 + (-7)^2 + (-4)^2}\n",
    "            \\sqrt{2^2 + 1^2 + (-3)^2 + 0^2 + 0^2}} \\\\\n",
    "        &= \\frac{10 + (-2) + (-3) + 0 + 0}{\\sqrt{25 + 4 + 1 + 49 + 16} \\sqrt{4 + 1 + 9 + 0 + 0}} \\\\\n",
    "        \\cos \\alpha &= \\frac{5}{\\sqrt{95} \\sqrt{14}}\n",
    "\\end{align}\n",
    "$$"
   ]
  },
  {
   "cell_type": "code",
   "execution_count": 408,
   "metadata": {},
   "outputs": [
    {
     "name": "stdout",
     "output_type": "stream",
     "text": [
      "3.f.\n",
      "angle =  0.13710212427677046\n",
      "angle =  0.13710212427677046\n"
     ]
    }
   ],
   "source": [
    "import numpy as np\n",
    "\n",
    "v = np.array([5, -2, 1, -7, -4])\n",
    "w = np.array([2, 1, -3, 0, 0])\n",
    "\n",
    "print(\"3.f.\")\n",
    "print(\"angle = \", v.dot(w) / (np.linalg.norm(v)*np.linalg.norm(w)))\n",
    "print(\"angle = \", 5 / (np.sqrt(95)*np.sqrt(14)))"
   ]
  },
  {
   "cell_type": "markdown",
   "metadata": {},
   "source": [
    "**g. If $\\beta$ is the angle between $\\textbf{u}$ and $\\textbf{w}$, find cos $\\beta$.**\n",
    "\n",
    "*Manual Solution*\n",
    "$$\n",
    "\\begin{align}\n",
    "    \\cos \\beta &= \\frac{\\textbf{u} \\cdotp \\textbf{w}}{||\\textbf{u}|| ||\\textbf{w}||} \\\\\n",
    "        &= \\frac{(2)(2) + (-5)(1) + (4)(-3) + (6)(0) + (-3)(0)}{\\sqrt{2^2 + (-5)^2 + 4^2 + 6^2 + (-3)^2}\n",
    "            \\sqrt{2^2 + 1^2 + (-3)^2 + 0^2 + 0^2}} \\\\\n",
    "        &= \\frac{4 + (-5) + (-12) + 0 + 0}{\\sqrt{4 + 25 + 16 + 36 + 9} \\sqrt{4 + 1 + 9 + 0 + 0}} \\\\\n",
    "        \\cos \\beta &= \\frac{-13}{\\sqrt{90} \\sqrt{14}}\n",
    "\\end{align}\n",
    "$$"
   ]
  },
  {
   "cell_type": "code",
   "execution_count": 409,
   "metadata": {},
   "outputs": [
    {
     "name": "stdout",
     "output_type": "stream",
     "text": [
      "3.g.\n",
      "angle =  -0.3662335103823572\n",
      "angle =  -0.3662335103823572\n"
     ]
    }
   ],
   "source": [
    "import numpy as np\n",
    "\n",
    "u = np.array([2, -5, 4, 6, -3])\n",
    "w = np.array([2, 1, -3, 0, 0])\n",
    "\n",
    "print(\"3.g.\")\n",
    "print(\"angle = \", u.dot(w) / (np.linalg.norm(u)*np.linalg.norm(w)))\n",
    "print(\"angle = \", (-13) / (np.sqrt(90)*np.sqrt(14)))"
   ]
  },
  {
   "cell_type": "markdown",
   "metadata": {},
   "source": [
    "**h. Find $d(\\textbf{u}, \\textbf{v})$.**\n",
    "\n",
    "*Manual Solution*\n",
    "$$\n",
    "\\begin{align}\n",
    "    d(\\textbf{u}, \\textbf{v}) &= ||\\textbf{u - v}|| \\\\\n",
    "        &= \\sqrt{(2 - 5)^2 + ((-5) - (-2))^2 + (4 - 1)^2 + (6 - (-7))^2 + ((-3) - (-4))^2} \\\\\n",
    "        &= \\sqrt{(-3)^2 + (-3)^2 + 3^2 + 13^2 + 1^2} \\\\\n",
    "        &= \\sqrt{9 + 9 + 9 + 169 + 1} \\\\\n",
    "        d(\\textbf{u}, \\textbf{v}) &= \\sqrt{197}\n",
    "\\end{align}\n",
    "$$\n",
    "\n",
    "*Pythonic Solution*"
   ]
  },
  {
   "cell_type": "code",
   "execution_count": 410,
   "metadata": {},
   "outputs": [
    {
     "name": "stdout",
     "output_type": "stream",
     "text": [
      "3.h.\n",
      "d(u, v) =  14.035668847618199\n",
      "d(u, v) =  14.035668847618199\n"
     ]
    }
   ],
   "source": [
    "import numpy as np\n",
    "\n",
    "u = np.array([2, -5, 4, 6, -3])\n",
    "v = np.array([5, -2, 1, -7, -4])\n",
    "\n",
    "print(\"3.h.\")\n",
    "print(\"d(u, v) = \", np.linalg.norm(u-v))\n",
    "print(\"d(u, v) = \", np.sqrt(197))"
   ]
  },
  {
   "cell_type": "markdown",
   "metadata": {},
   "source": [
    "**i. Find $d(\\textbf{w}, \\textbf{v})$.**\n",
    "\n",
    "*Manual Solution*\n",
    "$$\n",
    "\\begin{align}\n",
    "    d(\\textbf{w}, \\textbf{v}) &= ||\\textbf{w - v}|| \\\\\n",
    "        &= \\sqrt{(2 - 5)^2 + (1 - (-2))^2 + ((-3) - 1)^2 + (0 - (-7))^2 + (0 - (-4))^2} \\\\\n",
    "        &= \\sqrt{(-3)^2 + 3^2 + 4^2 + 7^2 + 4^2} \\\\\n",
    "        &= \\sqrt{9 + 9 + 16 + 49 + 16} \\\\\n",
    "        d(\\textbf{w}, \\textbf{v}) &= \\sqrt{99}\n",
    "\\end{align}\n",
    "$$\n",
    "\n",
    "*Pythonic Solution*"
   ]
  },
  {
   "cell_type": "code",
   "execution_count": 411,
   "metadata": {},
   "outputs": [
    {
     "name": "stdout",
     "output_type": "stream",
     "text": [
      "3.i.\n",
      "d(w, v) =  9.9498743710662\n",
      "d(w, v) =  9.9498743710662\n"
     ]
    }
   ],
   "source": [
    "import numpy as np\n",
    "\n",
    "w = np.array([2, 1, -3, 0, 0])\n",
    "v = np.array([5, -2, 1, -7, -4])\n",
    "\n",
    "print(\"3.i.\")\n",
    "print(\"d(w, v) = \", np.linalg.norm(w-v))\n",
    "print(\"d(w, v) = \", np.sqrt(99))"
   ]
  },
  {
   "cell_type": "markdown",
   "metadata": {},
   "source": [
    "**j. Find $d(\\textbf{u}, \\textbf{w})$.**\n",
    "\n",
    "*Manual Solution*\n",
    "$$\n",
    "\\begin{align}\n",
    "    d(\\textbf{u}, \\textbf{w}) &= ||\\textbf{u - w}|| \\\\\n",
    "        &= \\sqrt{(2 - 2)^2 + ((-5) - 1)^2 + (4 - (-3))^2 + (6 - 0)^2 + ((-3) - 0)^2} \\\\\n",
    "        &= \\sqrt{0^2 + (-6)^2 + 7^2 + 6^2 + (-3)^2} \\\\\n",
    "        &= \\sqrt{0 + 36 + 49 + 36 + 9} \\\\\n",
    "        d(\\textbf{u}, \\textbf{w}) &= \\sqrt{130}\n",
    "\\end{align}\n",
    "$$\n",
    "\n",
    "*Pythonic Solution*"
   ]
  },
  {
   "cell_type": "code",
   "execution_count": 412,
   "metadata": {},
   "outputs": [
    {
     "name": "stdout",
     "output_type": "stream",
     "text": [
      "3.j.\n",
      "d(u, w) =  11.40175425099138\n",
      "d(u, w) =  11.40175425099138\n"
     ]
    }
   ],
   "source": [
    "import numpy as np\n",
    "\n",
    "u = np.array([2, -5, 4, 6, -3])\n",
    "w = np.array([2, 1, -3, 0, 0])\n",
    "\n",
    "print(\"3.j.\")\n",
    "print(\"d(u, w) = \", np.linalg.norm(u-w))\n",
    "print(\"d(u, w) = \", np.sqrt(130))"
   ]
  },
  {
   "cell_type": "markdown",
   "metadata": {},
   "source": [
    "**k. Find $proj(\\textbf{u}, \\textbf{v})$.**\n",
    "\n",
    "*Manual Solution*\n",
    "$$\n",
    "\\begin{align}\n",
    "    proj(\\textbf{u}, \\textbf{v}) &= \\frac{\\textbf{u} \\cdotp \\textbf{v}}{||\\textbf{v}||^2}\\textbf{v} \\\\\n",
    "        &= \\frac{(2)(5) + (-5)(-2) + (4)(1) + (6)(-7) + (-3)(-4)}{(\\sqrt{5^2 + (-2)^2 + 1^2 + (-7)^2 + (-4)^2})^2} (5, -2, 1, -7, -4) \\\\\n",
    "        &= \\frac{10 + 10 + 4 + (-42) + 12}{(\\sqrt{25 + 4 + 1 + 49 + 16})^2} (5, -2, 1, -7, -4) \\\\\n",
    "        &= \\frac{-6}{(\\sqrt{95})^2} (5, -2, 1, -7, -4) \\\\\n",
    "        &= \\frac{-6}{95} (5, -2, 1, -7, -4) \\\\\n",
    "        proj(\\textbf{u}, \\textbf{v}) &= (\\frac{-6}{19}, \\frac{12}{95}, \\frac{-6}{95}, \\frac{42}{95}, \\frac{24}{95})\n",
    "\\end{align}\n",
    "$$\n",
    "\n",
    "*Pythonic Solution*"
   ]
  },
  {
   "cell_type": "code",
   "execution_count": 413,
   "metadata": {},
   "outputs": [
    {
     "name": "stdout",
     "output_type": "stream",
     "text": [
      "3.k.\n",
      "proj(u, v) =  [-0.31578947  0.12631579 -0.06315789  0.44210526  0.25263158]\n",
      "proj(u, v) =  [-0.3157894736842105, 0.12631578947368421, -0.06315789473684211, 0.4421052631578947, 0.25263157894736843]\n"
     ]
    }
   ],
   "source": [
    "import numpy as np\n",
    "\n",
    "u = np.array([2, -5, 4, 6, -3])\n",
    "v = np.array([5, -2, 1, -7, -4])\n",
    "\n",
    "print(\"3.k.\")\n",
    "print(\"proj(u, v) = \", u.dot(v) * v / (np.linalg.norm(v) ** 2))\n",
    "print(\"proj(u, v) = \", [(-6)/19, 12/95, (-6)/95, 42/95, 24/95])"
   ]
  },
  {
   "cell_type": "markdown",
   "metadata": {},
   "source": [
    "**l. Find $proj(\\textbf{w}, \\textbf{v})$.**\n",
    "\n",
    "*Manual Solution*\n",
    "$$\n",
    "\\begin{align}\n",
    "    proj(\\textbf{w}, \\textbf{v}) &= \\frac{\\textbf{w} \\cdotp \\textbf{v}}{||\\textbf{v}||^2}\\textbf{v} \\\\\n",
    "        &= \\frac{(2)(5) + (1)(-2) + (-3)(1) + (0)(-7) + (0)(-4)}{(\\sqrt{5^2 + (-2)^2 + 1^2 + (-7)^2 + (-4)^2})^2} (5, -2, 1, -7, -4) \\\\\n",
    "        &= \\frac{10 + (-2) + (-3) + 0 + 0}{(\\sqrt{25 + 4 + 1 + 49 + 16})^2} (5, -2, 1, -7, -4) \\\\\n",
    "        &= \\frac{5}{(\\sqrt{95})^2} (5, -2, 1, -7, -4) \\\\\n",
    "        &= \\frac{5}{95} (5, -2, 1, -7, -4) \\\\\n",
    "        proj(\\textbf{w}, \\textbf{v}) &= (\\frac{5}{19}, \\frac{-2}{19}, \\frac{5}{95}, \\frac{-7}{19}, \\frac{-4}{19})\n",
    "\\end{align}\n",
    "$$\n",
    "\n",
    "*Pythonic Solution*"
   ]
  },
  {
   "cell_type": "code",
   "execution_count": 414,
   "metadata": {},
   "outputs": [
    {
     "name": "stdout",
     "output_type": "stream",
     "text": [
      "3.l.\n",
      "proj(w, v) =  [ 0.26315789 -0.10526316  0.05263158 -0.36842105 -0.21052632]\n",
      "proj(w, v) =  [0.2631578947368421, -0.10526315789473684, 0.05263157894736842, -0.3684210526315789, -0.21052631578947367]\n"
     ]
    }
   ],
   "source": [
    "import numpy as np\n",
    "\n",
    "w = np.array([2, 1, -3, 0, 0])\n",
    "v = np.array([5, -2, 1, -7, -4])\n",
    "\n",
    "print(\"3.l.\")\n",
    "print(\"proj(w, v) = \", w.dot(v) * v / (np.linalg.norm(v) ** 2))\n",
    "print(\"proj(w, v) = \", [5/19, (-2)/19, 5/95, (-7)/19, (-4)/19])"
   ]
  },
  {
   "cell_type": "markdown",
   "metadata": {},
   "source": [
    "**m. Find $proj(\\textbf{u}, \\textbf{w})$.**\n",
    "\n",
    "*Manual Solution*\n",
    "$$\n",
    "\\begin{align}\n",
    "    proj(\\textbf{u}, \\textbf{w}) &= \\frac{\\textbf{u} \\cdotp \\textbf{w}}{||\\textbf{w}||^2}\\textbf{w} \\\\\n",
    "        &= \\frac{(2)(2) + (-5)(1) + (4)(-3) + (6)(0) + (-3)(0)}{(\\sqrt{2^2 + 1^2 + (-3)^2 + 0^2 + 0^2})^2} (2, 1, -3, 0, 0) \\\\\n",
    "        &= \\frac{4 + (-5) + (-12) + 0 + 0}{(\\sqrt{4 + 1 + 9 + 0 + 0})^2} (2, 1, -3, 0, 0) \\\\\n",
    "        &= \\frac{-13}{(\\sqrt{14})^2} (2, 1, -3, 0, 0) \\\\\n",
    "        &= \\frac{-13}{14} (2, 1, -3, 0, 0) \\\\\n",
    "        proj(\\textbf{u}, \\textbf{w}) &= (\\frac{-13}{7}, \\frac{-13}{14}, \\frac{39}{14}, 0, 0)\n",
    "\\end{align}\n",
    "$$\n",
    "\n",
    "*Pythonic Solution*"
   ]
  },
  {
   "cell_type": "code",
   "execution_count": 415,
   "metadata": {},
   "outputs": [
    {
     "name": "stdout",
     "output_type": "stream",
     "text": [
      "3.m.\n",
      "proj(u, w) =  [-1.85714286 -0.92857143  2.78571429  0.          0.        ]\n",
      "proj(u, w) =  [-1.8571428571428572, -0.9285714285714286, 2.7857142857142856, 0, 0]\n"
     ]
    }
   ],
   "source": [
    "import numpy as np\n",
    "\n",
    "u = np.array([2, -5, 4, 6, -3])\n",
    "w = np.array([2, 1, -3, 0, 0])\n",
    "\n",
    "print(\"3.m.\")\n",
    "print(\"proj(u, w) = \", u.dot(w) * w / (np.linalg.norm(w) ** 2))\n",
    "print(\"proj(u, w) = \", [(-13)/7, (-13)/14, 39/14, 0, 0])"
   ]
  },
  {
   "cell_type": "markdown",
   "metadata": {},
   "source": [
    "**4. Normalize each vector:**\n",
    "**a. $\\textbf{u}$ = (5, -7).**\n",
    "\n",
    "*Manual Solution*\n",
    "$$\n",
    "\\begin{align}\n",
    "    ||\\textbf{u}|| &= \\sqrt{5^2 + (-7)^2} \\\\\n",
    "        &= \\sqrt{25 + 49} \\\\\n",
    "        ||\\textbf{u}|| &= \\sqrt{74}\n",
    "\\end{align}\n",
    "$$\n",
    "\n",
    "*Pythonic Solution*"
   ]
  },
  {
   "cell_type": "code",
   "execution_count": 416,
   "metadata": {},
   "outputs": [
    {
     "name": "stdout",
     "output_type": "stream",
     "text": [
      "4.a.\n",
      "||u|| =  8.602325267042627\n",
      "||u|| = 8.602325267042627\n"
     ]
    }
   ],
   "source": [
    "import numpy as np\n",
    "\n",
    "u = np.array([5, -7])\n",
    "\n",
    "print(\"4.a.\")\n",
    "print(\"||u|| = \", np.sqrt(u.dot(u)))\n",
    "print(\"||u|| =\", np.sqrt(74))"
   ]
  },
  {
   "cell_type": "markdown",
   "metadata": {},
   "source": [
    "**b. $\\textbf{v}$ = (1, 2, -2, 4).**\n",
    "\n",
    "*Manual Solution*\n",
    "$$\n",
    "\\begin{align}\n",
    "    ||\\textbf{v}|| &= \\sqrt{1^2 + 2^2 + (-2)^2 + 4^2} \\\\\n",
    "        &= \\sqrt{1 + 4 + 4 + 16} \\\\\n",
    "        ||\\textbf{v}|| &= \\sqrt{25}\n",
    "\\end{align}\n",
    "$$"
   ]
  },
  {
   "cell_type": "code",
   "execution_count": 417,
   "metadata": {},
   "outputs": [
    {
     "name": "stdout",
     "output_type": "stream",
     "text": [
      "4.b.\n",
      "||v|| =  5.0\n",
      "||v|| = 5.0\n"
     ]
    }
   ],
   "source": [
    "import numpy as np\n",
    "\n",
    "v = np.array([1, 2, -2, 4])\n",
    "\n",
    "print(\"4.b.\")\n",
    "print(\"||v|| = \", np.sqrt(v.dot(v)))\n",
    "print(\"||v|| =\", np.sqrt(25))"
   ]
  },
  {
   "cell_type": "markdown",
   "metadata": {},
   "source": [
    "**c. $\\textbf{w} = (\\frac{1}{2}, \\frac{-1}{3}, \\frac{3}{4})$.**\n",
    "\n",
    "*Manual Solution*\n",
    "$$\n",
    "\\begin{align}\n",
    "    ||\\textbf{w}|| &= \\sqrt{\\frac{1}{2}^2 + \\frac{-1}{3}^2 + \\frac{3}{4}^2} \\\\\n",
    "        &= \\sqrt{\\frac{1}{4} + \\frac{1}{9} + \\frac{9}{16}} \\\\\n",
    "        ||\\textbf{w}|| &= \\sqrt{\\frac{133}{144}}\n",
    "\\end{align}\n",
    "$$\n",
    "\n",
    "*Pythonic Solution*"
   ]
  },
  {
   "cell_type": "code",
   "execution_count": 418,
   "metadata": {},
   "outputs": [
    {
     "name": "stdout",
     "output_type": "stream",
     "text": [
      "4.c.\n",
      "||w|| =  0.961046882889233\n",
      "||w|| = 0.961046882889233\n"
     ]
    }
   ],
   "source": [
    "import numpy as np\n",
    "\n",
    "w = np.array([1/2, (-1)/3, 3/4])\n",
    "\n",
    "print(\"4.c.\")\n",
    "print(\"||w|| = \", np.sqrt(w.dot(w)))\n",
    "print(\"||w|| =\", np.sqrt(133/144))"
   ]
  },
  {
   "cell_type": "markdown",
   "metadata": {},
   "source": [
    "**5. Let $\\textbf{u}$ = (1, 2, -2), $\\textbf{v}$ = (3, -12, 4) and a scalar $k$ = -3:**\n",
    "**Find ||$\\textbf{u}$||, ||$\\textbf{v}$||, ||$\\textbf{u + v}$||, ||$\\textbf{ku}$||.**\n",
    "\n",
    "*Manual Solution*\n",
    "$$\n",
    "\\begin{align}\n",
    "    ||\\textbf{u}|| &= \\sqrt{1^2 + 2^2 + (-2)^2} \\\\\n",
    "        &= \\sqrt{2 + 4 + 4} \\\\\n",
    "        ||\\textbf{u}|| &= \\sqrt{9}\n",
    "\\end{align}\n",
    "$$\n",
    "\n",
    "$$\n",
    "\\begin{align}\n",
    "    ||\\textbf{v}|| &= \\sqrt{3^2 + (-12)^2 + 4^2} \\\\\n",
    "        &= \\sqrt{9 + 144 + 16} \\\\\n",
    "        ||\\textbf{v}|| &= \\sqrt{169}\n",
    "\\end{align}\n",
    "$$\n",
    "\n",
    "$$\n",
    "\\begin{align}\n",
    "    ||\\textbf{u + v}|| &= \\sqrt{(1 + 3)^2 + (2 + (-12))^2 + ((-2) + 4)^2} \\\\\n",
    "        &= \\sqrt{4^2 + (-10)^2 + 2^2} \\\\\n",
    "        &= \\sqrt{16 + 100 + 4} \\\\\n",
    "        ||\\textbf{u + v}|| &= \\sqrt{120}\n",
    "\\end{align}\n",
    "$$\n",
    "\n",
    "$$\n",
    "\\begin{align}\n",
    "    ||\\textbf{ku}|| &= \\sqrt{((-3)(1))^2 + ((-3)(2))^2 + ((-3)(-2))^2} \\\\\n",
    "        &= \\sqrt{(-3)^2 + (-6)^2 + 6^2} \\\\\n",
    "        &= \\sqrt{9 + 36 + 36} \\\\\n",
    "        ||\\textbf{ku}|| &= \\sqrt{81}\n",
    "\\end{align}\n",
    "$$\n",
    "\n",
    "*Pythonic Solution*"
   ]
  },
  {
   "cell_type": "code",
   "execution_count": 419,
   "metadata": {},
   "outputs": [
    {
     "name": "stdout",
     "output_type": "stream",
     "text": [
      "5.\n",
      "||u|| =  3.0\n",
      "||u|| = 3.0\n",
      "\n",
      "||v|| =  13.0\n",
      "||v|| = 13.0\n",
      "\n",
      "||u + v|| =  10.954451150103322\n",
      "||u + v|| =  10.954451150103322\n",
      "\n",
      "||ku|| =  9.0\n",
      "||ku|| =  9.0\n"
     ]
    }
   ],
   "source": [
    "import numpy as np\n",
    "\n",
    "u = np.array([1, 2, -2])\n",
    "v = np.array([3, -12, 4])\n",
    "k = -3\n",
    "\n",
    "print(\"5.\")\n",
    "print(\"||u|| = \", np.sqrt(u.dot(u)))\n",
    "print(\"||u|| =\", np.sqrt(9))\n",
    "print(\"\")\n",
    "print(\"||v|| = \", np.sqrt(v.dot(v)))\n",
    "print(\"||v|| =\", np.sqrt(169))\n",
    "print(\"\")\n",
    "print(\"||u + v|| = \", np.linalg.norm(u + v))\n",
    "print(\"||u + v|| = \", np.sqrt(120))\n",
    "print(\"\")\n",
    "print(\"||ku|| = \", np.linalg.norm(k * u))\n",
    "print(\"||ku|| = \", np.sqrt(81))"
   ]
  },
  {
   "cell_type": "markdown",
   "metadata": {},
   "source": [
    "**6. Find $\\textbf{k}$ so that $\\textbf{u}$ and $\\textbf{v}$ are orthogonal.**\n",
    "**a. $\\textbf{u}$ = (3, $\\textbf{k}$, -2), $\\textbf{v}$ = (6, -4, -3).**\n",
    "\n",
    "*Manual Solution*\n",
    "$$\n",
    "\\begin{align}\n",
    "    \\textbf{u} \\cdotp \\textbf{v} &= 0 \\\\\n",
    "        (3)(6) + (\\textbf{k})(-4) + (-2)(-3) &= 0 \\\\\n",
    "        18 + (-4k) + 6 &= 0 \\\\\n",
    "        -4k + 24 &= 0 \\\\\n",
    "        \\frac{-4k}{-4} &= \\frac{-24}{-4} \\\\\n",
    "        k &= 6\n",
    "\\end{align}\n",
    "$$\n",
    "\n",
    "*Pythonic Solution*"
   ]
  },
  {
   "cell_type": "code",
   "execution_count": 420,
   "metadata": {},
   "outputs": [
    {
     "name": "stdout",
     "output_type": "stream",
     "text": [
      "6.a. The value of k is: 6\n",
      "Vectors u and v are orthogonal.\n"
     ]
    }
   ],
   "source": [
    "import numpy as np\n",
    "\n",
    "k = 6\n",
    "u = np.array([3, k, -2])\n",
    "v = np.array([6, -4, -3])\n",
    "\n",
    "dot_product = np.dot(u, v)\n",
    "\n",
    "print(\"6.a. The value of k is:\", k)\n",
    "if dot_product == 0:\n",
    "    print(\"Vectors u and v are orthogonal.\")\n",
    "else:\n",
    "    print(\"Vectors u and v are not orthogonal.\")"
   ]
  },
  {
   "cell_type": "markdown",
   "metadata": {},
   "source": [
    "**b. $\\textbf{u}$ = (5, $\\textbf{k}$, -4, 2), $\\textbf{v}$ = (1, -3, 2, 2$\\textbf{k}$).**\n",
    "\n",
    "*Manual Solution*\n",
    "$$\n",
    "\\begin{align}\n",
    "    \\textbf{u} \\cdotp \\textbf{v} &= 0 \\\\\n",
    "        (5)(1) + (\\textbf{k})(-3) + (-4)(2) + (2)(2\\textbf{k}) &= 0 \\\\\n",
    "        5 + (-3\\textbf{k}) + (-8) + 4\\textbf{k} &= 0 \\\\\n",
    "        (-3\\textbf{k}) + 4\\textbf{k} &= (-5) + 8 \\\\\n",
    "        \\textbf{k} = 3\n",
    "\\end{end}\n",
    "$$\n",
    "\n",
    "*Pythonic Solution*"
   ]
  },
  {
   "cell_type": "code",
   "execution_count": 421,
   "metadata": {},
   "outputs": [
    {
     "name": "stdout",
     "output_type": "stream",
     "text": [
      "6.b. The value of k is: 3\n",
      "Vectors u and v are orthogonal.\n"
     ]
    }
   ],
   "source": [
    "import numpy as np\n",
    "\n",
    "k = 3\n",
    "u = np.array([5, k, -4, 2])\n",
    "v = np.array([1, -3, 2, 2*k])\n",
    "\n",
    "dot_product = np.dot(u, v)\n",
    "\n",
    "print(\"6.b. The value of k is:\", k)\n",
    "if dot_product == 0:\n",
    "    print(\"Vectors u and v are orthogonal.\")\n",
    "else:\n",
    "    print(\"Vectors u and v are not orthogonal.\")"
   ]
  },
  {
   "cell_type": "markdown",
   "metadata": {},
   "source": [
    "**c. $\\textbf{u}$ = (1, 7, $\\textbf{k}$ + 2, -2), $\\textbf{v}$ = (3, $\\textbf{k}$, -3, $\\textbf{k}$).**\n",
    "\n",
    "*Manual Solution*\n",
    "$$\n",
    "\\begin{align}\n",
    "    \\textbf{u} \\cdotp \\textbf{v} &= 0 \\\\\n",
    "    (1)(3) + (7)(\\textbf{k}) + (\\textbf{k} + 2)(-3) + (-2)(\\textbf{k}) &= 0 \\\\\n",
    "    3 + 7\\textbf{k} + (-3\\textbf{k} - 6) + -2\\textbf{k} &= 0 \\\\\n",
    "    7\\textbf{k} -3\\textbf{k} -2\\textbf{k} + 3 - 6 &= 0 \\\\\n",
    "    2k - 3 &= 0 \\\\\n",
    "    \\frac{2k}{2} &= \\frac{3}{2} \\\\\n",
    "    k &= \\frac{3}{2}\n",
    "\\end{align}\n",
    "$$\n",
    "\n",
    "*Pythonic Solution*"
   ]
  },
  {
   "cell_type": "code",
   "execution_count": 422,
   "metadata": {},
   "outputs": [
    {
     "name": "stdout",
     "output_type": "stream",
     "text": [
      "6.c. The value of k is: 1.5\n",
      "Vectors u and v are orthogonal.\n"
     ]
    }
   ],
   "source": [
    "import numpy as np\n",
    "\n",
    "k = 3/2\n",
    "u = np.array([1, 7, k + 2, -2])\n",
    "v = np.array([3, k, -3, k])\n",
    "\n",
    "dot_product = np.dot(u, v)\n",
    "\n",
    "print(\"6.c. The value of k is:\", k)\n",
    "if dot_product == 0:\n",
    "    print(\"Vectors u and v are orthogonal.\")\n",
    "else:\n",
    "    print(\"Vectors u and v are not orthogonal.\")"
   ]
  }
 ],
 "metadata": {
  "kernelspec": {
   "display_name": "Python 3 (ipykernel)",
   "language": "python",
   "name": "python3"
  },
  "language_info": {
   "codemirror_mode": {
    "name": "ipython",
    "version": 3
   },
   "file_extension": ".py",
   "mimetype": "text/x-python",
   "name": "python",
   "nbconvert_exporter": "python",
   "pygments_lexer": "ipython3",
   "version": "3.11.4"
  }
 },
 "nbformat": 4,
 "nbformat_minor": 1
}
