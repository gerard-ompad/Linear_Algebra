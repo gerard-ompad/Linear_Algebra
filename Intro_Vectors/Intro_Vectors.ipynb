{
 "cells": [
  {
   "cell_type": "markdown",
   "id": "1f8462fd",
   "metadata": {},
   "source": [
    "## Erwin Antepuesto"
   ]
  },
  {
   "cell_type": "markdown",
   "id": "2e82e4e0",
   "metadata": {},
   "source": [
    "### 1. Let $\\textbf{u} = (1, -2, 4)$ and $\\textbf{v} = (3,5,1)$ $\\textbf{w} = (2,1,-3)$ find:\n",
    "a. $3\\textbf{u}-2\\textbf{v}$<br>\n",
    "b. $5\\textbf{u}+3\\textbf{v}-4\\textbf{w}$<br>\n",
    "c. $\\textbf{u} \\cdotp \\textbf{v}$,$\\textbf{v} \\cdotp \\textbf{w}$, $\\textbf{u} \\cdotp \\textbf{w}$<br>\n",
    "d. ||$\\textbf{u}$||, ||$\\textbf{v}$||, ||$\\textbf{w}$||<br>\n",
    "e. If $\\theta$ is the angle between $\\textbf{u}$  and   $\\textbf{v}$, find $\\cos{\\theta}$.<br>\n",
    "f. If $\\alpha$ is the angle between $\\textbf{v}$  and   $\\textbf{w}$, find $\\cos{\\alpha}$.<br>\n",
    "g. If $\\beta$ is the angle between $\\textbf{u}$  and   $\\textbf{w}$, find $\\cos{\\beta}$.<br>\n",
    "h. Find $d(\\textbf{u},\\textbf{v})$.<br>\n",
    "i. Find $d(\\textbf{w},\\textbf{v})$.<br>\n",
    "j. Find $d(\\textbf{u},\\textbf{w})$. <br>\n",
    "k. Find $proj(\\textbf{u},\\textbf{v})$.<br>\n",
    "l. Find $proj(\\textbf{w},\\textbf{v})$.<br>\n",
    "m. Find $proj(\\textbf{u},\\textbf{w})$. <br>  "
   ]
  },
  {
   "cell_type": "markdown",
   "id": "dbbe6997",
   "metadata": {},
   "source": [
    "### Manual Solutions:\n",
    "a. $ 3\\mathbf{u}-2\\mathbf{v} $\n",
    "$$\n",
    "\\begin{align}\n",
    "    3\\textbf{u} - 2\\textbf{v} &= 3(1, (-2), 4) - 2(3, 5, 1) \\\\\n",
    "        &= (3, (-6), 12) - (6, 10, 2) \\\\\n",
    "        3\\textbf{u} - 2\\textbf{v} &= (-3, -16, 10)\n",
    "\\end{align}\n",
    "$$\n",
    "<br>\n",
    "<br>\n",
    "\n",
    "b. $ 5\\mathbf{u}+3\\mathbf{v} - 4\\mathbf{w} $\n",
    "$$\n",
    "\\begin{align}\n",
    "    5\\textbf{u} + 3\\textbf{v} - 4\\textbf{w} &= 5(1, (-2), 4) + 3(3, 5, 1) - 4(2, 1, (-3)) \\\\\n",
    "        &= (5, (-10), 20) + (9, 15, 3) - (8, 4, (-12)) \\\\\n",
    "        &= ((5 + 9 - 8), ((-10) + 15 - 4), (20 + 3 - (-12))) \\\\\n",
    "        5\\textbf{u} + 3\\textbf{v} - 4\\textbf{w} &= (6, 1, 35)\n",
    "\\end{align}\n",
    "$$\n",
    "<br>\n",
    "<br>\n",
    "c. $\\textbf{u} \\cdotp \\textbf{v}$,$\\textbf{v} \\cdotp \\textbf{w}$, $\\textbf{u} \\cdotp \\textbf{w}$<br>\n",
    "$$\n",
    "\\begin{align}\n",
    "    \\textbf{u} \\cdotp \\textbf{v} &= (1)(3) + (-2)(5) + (4)(1) \\\\\n",
    "        &= (3) + (-10) + (4) \\\\\n",
    "    \\textbf{u} \\cdotp \\textbf{v} &= -3\n",
    "\\end{align}\n",
    "$$\n",
    "\n",
    "$$\n",
    "\\begin{align}\n",
    "    \\textbf{v} \\cdotp \\textbf{w} &= (3)(2) + (5)(1) + (1)(-3) \\\\\n",
    "        &= (6) + (5) + (-3) \\\\\n",
    "    \\textbf{v} \\cdotp \\textbf{w} &= 8\n",
    "\\end{align}\n",
    "$$\n",
    "\n",
    "$$\n",
    "\\begin{align}\n",
    "    \\textbf{u} \\cdotp \\textbf{w} &= (1)(2) + (-2)(1) + (4)(-3) \\\\\n",
    "        &= (2) + (-2) + (-12) \\\\\n",
    "    \\textbf{u} \\cdotp \\textbf{w} &= -12\n",
    "\\end{align}\n",
    "$$\n",
    "\n"
   ]
  },
  {
   "cell_type": "markdown",
   "id": "534e1c75",
   "metadata": {},
   "source": [
    "d. ||$\\textbf{u}$||, ||$\\textbf{v}$||, ||$\\textbf{w}$||<br>\n",
    "\n",
    "\\begin{align*}\n",
    "    \\|\\mathbf{u}\\| &= \\sqrt{\\mathbf{u} \\cdot \\mathbf{u}} = \\sqrt{1^{2} + (-2)^2 + (4)^2} = \\sqrt{21} \\\\\n",
    "    \\|\\mathbf{v}\\| &= \\sqrt{\\mathbf{v} \\cdot \\mathbf{v}} = \\sqrt{3^{2} + (5)^2 + (1)^2} = \\sqrt{35} \\\\\n",
    "    \\|\\mathbf{w}\\| &= \\sqrt{\\mathbf{w} \\cdot \\mathbf{w}} = \\sqrt{2^{2} + (1)^2 + (-3)^2} = \\sqrt{14}\n",
    "\\end{align*}\n"
   ]
  },
  {
   "cell_type": "markdown",
   "id": "bbab697d",
   "metadata": {},
   "source": [
    "e. If $\\theta$ is the angle between $\\textbf{u}$  and   $\\textbf{v}$, find $\\cos{\\theta}$.<br>\n",
    "\n",
    "Let $u=(1,-2,3)$ and $v=(3,5,1)$\n",
    "$$\n",
    "\\begin{align}\n",
    "    \\cos{\\theta} &= \\frac{\\textbf{u} \\cdotp \\textbf{v}}{||\\textbf{u}|| \\ ||\\textbf{v}||} \\\\\n",
    "        &= \\frac{(1)(3) + (-2)(5) + (4)(1)}{\\sqrt{1^2 + (-2)^2 + 4^2} \\sqrt{3^2 + 5^2 + 1^2}} \\\\\n",
    "        &= \\frac{3 + (-10) + 4}{\\sqrt{1 + 4 + 16} \\sqrt{9 + 25 + 1}} \\\\\n",
    "        \\cos{\\theta} &= \\frac{-3}{\\sqrt{21} \\sqrt{35}}\n",
    "\\end{align}\n",
    "$$\n"
   ]
  },
  {
   "cell_type": "markdown",
   "id": "22f27c9e",
   "metadata": {},
   "source": [
    "f. If $\\alpha$ is the angle between $\\textbf{v}$  and   $\\textbf{w}$, find $\\cos{\\alpha}$.<br>\n",
    "\n",
    "$$\n",
    "\\begin{align}\n",
    "    \\cos{\\alpha} &= \\frac{\\textbf{v} \\cdotp \\textbf{w}}{||\\textbf{v}|| \\ ||\\textbf{w}||} \\\\\n",
    "        &= \\frac{(3)(2) + (5)(1) + (1)(-3)}{\\sqrt{3^2 + 5^2 + 1^2} \\sqrt{2^2 + 1^2 + (-3)^2}} \\\\\n",
    "        &= \\frac{6 + 5 + (-3)}{\\sqrt{9 + 25 + 1} \\sqrt{4 + 1 + 9}} \\\\\n",
    "        \\cos{\\alpha} &= \\frac{8}{\\sqrt{35} \\sqrt{14}}\n",
    "\\end{align}\n",
    "$$\n"
   ]
  },
  {
   "cell_type": "markdown",
   "id": "b00e80fd",
   "metadata": {},
   "source": [
    "g. If $\\beta$ is the angle between $\\textbf{u}$  and   $\\textbf{w}$, find $\\cos{\\beta}$.<br>\n",
    "$$\n",
    "\\begin{align}\n",
    "    \\cos{\\beta} &= \\frac{\\textbf{u} \\cdotp \\textbf{w}}{||\\textbf{u}|| \\ ||\\textbf{w}||} \\\\\n",
    "        &= \\frac{(1)(2) + (-2)(1) + (4)(-3)}{\\sqrt{1^2 + (-2)^2 + 4^2} \\sqrt{2^2 + 1^2 + (-3)^2}} \\\\\n",
    "        &= \\frac{2 + (-2) + (-12)}{\\sqrt{1 + 4 + 16} \\sqrt{4 + 1 + 9}} \\\\\n",
    "        \\cos{\\beta} &= \\frac{(-12)}{\\sqrt{21} \\sqrt{14}}\n",
    "\\end{align}\n",
    "$$\n",
    "\n"
   ]
  },
  {
   "cell_type": "markdown",
   "id": "2affbc11",
   "metadata": {},
   "source": [
    "h. Find $d(\\textbf{u},\\textbf{v})$.<br>\n",
    "$$\n",
    "\\begin{align}\n",
    "    d(\\textbf{u}, \\textbf{v}) &= ||\\textbf{u} - \\textbf{v}|| \\\\\n",
    "        &= \\sqrt{(1 - 3)^2 + ((-2) - 5)^2 + (4 - 1)^2} \\\\\n",
    "        &= \\sqrt{(-2)^2 + (-7)^2 + 3^2} \\\\\n",
    "        &= \\sqrt{4 + 49 + 9} \\\\\n",
    "        d(\\textbf{u}, \\textbf{v}) &= \\sqrt{62}\n",
    "\\end{align}\n",
    "$$"
   ]
  },
  {
   "cell_type": "markdown",
   "id": "363fde71",
   "metadata": {},
   "source": [
    "i. Find $d(\\textbf{w},\\textbf{v})$.<br>\n",
    "$$\n",
    "\\begin{align}\n",
    "    d(\\textbf{w}, \\textbf{v}) &= ||\\textbf{w} - \\textbf{v}|| \\\\\n",
    "        &= \\sqrt{(2 - 3)^2 + (1 - 5)^2 + ((-3) - 1)^2} \\\\\n",
    "        &= \\sqrt{(-1)^2 + (-4)^2 + (-4)^2} \\\\\n",
    "        &= \\sqrt{1 + 16 + 16} \\\\\n",
    "        d(\\textbf{w}, \\textbf{v}) &= \\sqrt{33}\n",
    "\\end{align}\n",
    "$$"
   ]
  },
  {
   "cell_type": "markdown",
   "id": "719031d4",
   "metadata": {},
   "source": [
    "j. Find $d(\\textbf{u},\\textbf{w})$. <br>\n",
    "$$\n",
    "\\begin{align}\n",
    "    d(\\textbf{u}, \\textbf{w}) &= ||\\textbf{u} - \\textbf{w}|| \\\\\n",
    "        &= \\sqrt{(1 - 2)^2 + ((-2) - 1)^2 + (4 - (-3))^2} \\\\\n",
    "        &= \\sqrt{(-1)^2 + (-3)^2 + 7^2} \\\\\n",
    "        &= \\sqrt{1 + 9 + 49} \\\\\n",
    "        d(\\textbf{u}, \\textbf{v}) &= \\sqrt{59}\n",
    "\\end{align}\n",
    "$$"
   ]
  },
  {
   "cell_type": "markdown",
   "id": "55e9a338",
   "metadata": {},
   "source": [
    "k. Find $proj(\\textbf{u},\\textbf{v})$.<br>\n",
    "\\begin{align*}\n",
    "    \\text{proj}(\\mathbf{u}, \\mathbf{v}) &= \\frac{\\mathbf{u} \\cdot \\mathbf{v}}{\\|\\mathbf{v}\\|^2} \\mathbf{v}\\\\\n",
    "    &= \\frac{(1)(3) + (-2)(5) + (4)(1)}{(\\sqrt{3^2 + 5^2 + 1^2})^2} (3, 5, 1) \\\\\n",
    "    &= \\frac{3 - 10 + 4}{(\\sqrt{9 + 25 + 1})^2} (3, 5, 1) \\\\\n",
    "    &= \\frac{-3}{(\\sqrt{35})^2} (3, 5, 1) \\\\\n",
    "    &= \\frac{-3}{35} (3, 5, 1) \\\\\n",
    "\\text{proj}(\\mathbf{u}, \\mathbf{v}) &= \\left(\\frac{-9}{35}, \\frac{-3}{7}, \\frac{-3}{35}\\right)\n",
    "\\end{align*}\n"
   ]
  },
  {
   "cell_type": "markdown",
   "id": "b1393025",
   "metadata": {},
   "source": [
    "l. Find $proj(\\textbf{w},\\textbf{v})$.<br>\n",
    "\\begin{align*}\n",
    "    \\text{proj}(\\mathbf{w}, \\mathbf{v}) &= \\frac{\\mathbf{w} \\cdot \\mathbf{v}}{\\|\\mathbf{v}\\|^2} \\mathbf{v} \\\\\n",
    "    &= \\frac{(2)(3) + (1)(5) + (-3)(1)}{(\\sqrt{3^2 + 5^2 + 1^2})^2} (3, 5, 1) \\\\\n",
    "    &= \\frac{6 + 5 - 3}{(\\sqrt{9 + 25 + 1})^2} (3, 5, 1) \\\\\n",
    "    &= \\frac{8}{(\\sqrt{35})^2} (3, 5, 1) \\\\\n",
    "    &= \\frac{8}{35} (3, 5, 1) \\\\\n",
    "\\text{proj}(\\mathbf{w}, \\mathbf{v}) &= \\left(\\frac{24}{35}, \\frac{8}{7}, \\frac{8}{35}\\right)\n",
    "\\end{align*}\n"
   ]
  },
  {
   "cell_type": "markdown",
   "id": "632c01e1",
   "metadata": {},
   "source": [
    "m. Find $proj(\\textbf{u},\\textbf{w})$. <br>  \n",
    "\\begin{align*}\n",
    "    \\text{proj}(\\mathbf{u}, \\mathbf{w}) &= \\frac{\\mathbf{u} \\cdot \\mathbf{w}}{\\|\\mathbf{w}\\|^2} \\mathbf{w} \\\\\n",
    "    &= \\frac{(1)(2) + (-2)(1) + (4)(-3)}{(\\sqrt{2^2 + 1^2 + (-3)^2})^2} (2, 1, -3) \\\\\n",
    "    &= \\frac{2 - 2 - 12}{(\\sqrt{4 + 1 + 9})^2} (2, 1, -3) \\\\\n",
    "    &= \\frac{-12}{(\\sqrt{14})^2} (2, 1, -3) \\\\\n",
    "    &= \\frac{-6}{7} (2, 1, -3) \\\\\n",
    "\\text{proj}(\\mathbf{u}, \\mathbf{w}) &= \\left(\\frac{-12}{7}, \\frac{-6}{7}, \\frac{18}{7}\\right)\n",
    "\\end{align*}\n"
   ]
  },
  {
   "cell_type": "markdown",
   "id": "4b952e3a",
   "metadata": {},
   "source": [
    "### Pythonic Solutions"
   ]
  },
  {
   "cell_type": "code",
   "execution_count": 31,
   "id": "240412a7",
   "metadata": {},
   "outputs": [
    {
     "name": "stdout",
     "output_type": "stream",
     "text": [
      "a.     3u-2v:  [ -3 -16  10]\n",
      "b.  5u+3v-4w:  [ 6  1 35]\n",
      "c.       u.v:  -3\n",
      "         v.w:  8\n",
      "         w.u:  -12\n",
      "d.     ||u||:  4.58257569495584\n",
      "       ||v||:  5.916079783099616\n",
      "       ||w||:  3.7416573867739413\n",
      "e.     cos 𝜃:  -0.11065666703449763\n",
      "f.     cos 𝛼:  0.36140316116210053\n",
      "g.     cos 𝛽:  -0.6998542122237653\n",
      "h.    d(u,v):  7.874007874011811\n",
      "i.    d(w,v):  5.744562646538029\n",
      "j.    d(u,w):  7.681145747868608\n",
      "k. proj(u,v):  [-0.25714286 -0.42857143 -0.08571429]\n",
      "l. proj(w,v):  [0.68571429 1.14285714 0.22857143]\n",
      "m. proj(u,w):  [-1.71428571 -0.85714286  2.57142857]\n"
     ]
    }
   ],
   "source": [
    "import numpy as np\n",
    "u = np.array([1,-2,4])\n",
    "v = np.array([3,5,1])\n",
    "w = np.array([2,1,-3])\n",
    "print(\"a.     3u-2v: \", (3*u)-(2*v))\n",
    "print(\"b.  5u+3v-4w: \", (5*u)+(3*v)-(4*w))\n",
    "print(\"c.       u.v: \", u.dot(v))\n",
    "print(\"         v.w: \", v.dot(w))\n",
    "print(\"         w.u: \", w.dot(u))\n",
    "print('d.     ||u||: ', np.sqrt(u.dot(u)))\n",
    "print('       ||v||: ', np.sqrt(v.dot(v)))\n",
    "print('       ||w||: ', np.sqrt(w.dot(w)))\n",
    "print(\"e.     cos 𝜃: \",u.dot(v)/(np.linalg.norm(u)*np.linalg.norm(v)))\n",
    "print(\"f.     cos 𝛼: \",v.dot(w)/(np.linalg.norm(v)*np.linalg.norm(w)))\n",
    "print(\"g.     cos 𝛽: \",u.dot(w)/(np.linalg.norm(u)*np.linalg.norm(w)))\n",
    "print(\"h.    d(u,v): \", np.linalg.norm(u-v))\n",
    "print(\"i.    d(w,v): \", np.linalg.norm(w-v))\n",
    "print(\"j.    d(u,w): \", np.linalg.norm(u-w))\n",
    "print(\"k. proj(u,v): \",u.dot(v)*v/(np.linalg.norm(v)**2) )\n",
    "print(\"l. proj(w,v): \",w.dot(v)*v/(np.linalg.norm(v)**2) )\n",
    "print(\"m. proj(u,w): \",u.dot(w)*w/(np.linalg.norm(w)**2) )\n"
   ]
  },
  {
   "cell_type": "markdown",
   "id": "7c662174",
   "metadata": {},
   "source": [
    "### 2. Let \\begin{align}\n",
    "    \\textbf{u} &= \\begin{bmatrix}\n",
    "           1 \\\\\n",
    "           3 \\\\\n",
    "           -4\n",
    "         \\end{bmatrix}, \\textbf{v} = \\begin{bmatrix}\n",
    "           2 \\\\\n",
    "           1 \\\\\n",
    "           5\n",
    "         \\end{bmatrix}, \\textbf{w} = \\begin{bmatrix}\n",
    "           3 \\\\\n",
    "           -2 \\\\\n",
    "           6\n",
    "         \\end{bmatrix}\n",
    "  \\end{align}\n",
    "a. $3\\textbf{u}-2\\textbf{v}$<br>\n",
    "b. $5\\textbf{u}+3\\textbf{v}-4\\textbf{w}$<br>\n",
    "c. $\\textbf{u} \\cdotp \\textbf{v}$,$\\textbf{v} \\cdotp \\textbf{w}$, $\\textbf{u} \\cdotp \\textbf{w}$<br>\n",
    "d. ||$\\textbf{u}$||, ||$\\textbf{v}$||, ||$\\textbf{w}$||<br>\n",
    "e. If $\\theta$ is the angle between $\\textbf{u}$  and   $\\textbf{v}$, find $\\cos{\\theta}$.<br>\n",
    "f. If $\\alpha$ is the angle between $\\textbf{v}$  and   $\\textbf{w}$, find $\\cos{\\alpha}$.<br>\n",
    "g. If $\\beta$ is the angle between $\\textbf{u}$  and   $\\textbf{w}$, find $\\cos{\\beta}$.<br>\n",
    "h. Find $d(\\textbf{u},\\textbf{v})$.<br>\n",
    "i. Find $d(\\textbf{w},\\textbf{v})$.<br>\n",
    "j. Find $d(\\textbf{u},\\textbf{w})$. <br>\n",
    "k. Find $proj(\\textbf{u},\\textbf{v})$.<br>\n",
    "l. Find $proj(\\textbf{w},\\textbf{v})$.<br>\n",
    "m. Find $proj(\\textbf{u},\\textbf{w})$. <br>  "
   ]
  },
  {
   "cell_type": "markdown",
   "id": "c78e8309",
   "metadata": {},
   "source": [
    "## Manual Solutions\n"
   ]
  },
  {
   "cell_type": "markdown",
   "id": "63e33e17",
   "metadata": {},
   "source": [
    "\n",
    "## Pythonic Solutions"
   ]
  },
  {
   "cell_type": "code",
   "execution_count": 1,
   "id": "5879b20e",
   "metadata": {},
   "outputs": [
    {
     "name": "stdout",
     "output_type": "stream",
     "text": [
      "a. 3u-2v    :  [ -1   7 -22]\n",
      "b. 5u+3v-4w :  [ -1  26 -29]\n",
      "c. u.v      :  -15\n",
      "   v.w      :  34\n",
      "   w.u      :  -27\n",
      "d. ||u||    :  5.0990195135927845\n",
      "   ||v||    :  5.477225575051661\n",
      "   ||w||    :  7.0\n",
      "e. cos 𝜃    :  -0.5370861555295747\n",
      "f. cos 𝛼    :  0.8867889026274118\n",
      "g. cos 𝛽    :  -0.7564479498187099\n",
      "h. d(u,v)   :  9.273618495495704\n",
      "i. d(w,v)   :  3.3166247903554\n",
      "j. d(u,w)   :  11.357816691600547\n",
      "k. proj(u,v):  [-1.  -0.5 -2.5]\n",
      "l. proj(w,v):  [2.26666667 1.13333333 5.66666667]\n",
      "m. proj(u,w):  [-1.65306122  1.10204082 -3.30612245]\n"
     ]
    }
   ],
   "source": [
    "import numpy as np\n",
    "u = np.array([1,3,-4])\n",
    "v = np.array([2,1,5])\n",
    "w = np.array([3,-2,6])\n",
    "print(\"a. 3u-2v    : \", (3*u)-(2*v))\n",
    "print(\"b. 5u+3v-4w : \", (5*u)+(3*v)-(4*w))\n",
    "print(\"c. u.v      : \", u.dot(v))\n",
    "print(\"   v.w      : \", v.dot(w))\n",
    "print(\"   w.u      : \", w.dot(u))\n",
    "print('d. ||u||    : ', np.sqrt(u.dot(u)))\n",
    "print('   ||v||    : ', np.sqrt(v.dot(v)))\n",
    "print('   ||w||    : ', np.sqrt(w.dot(w)))\n",
    "print(\"e. cos 𝜃    : \",u.dot(v)/(np.linalg.norm(u)*np.linalg.norm(v)))\n",
    "print(\"f. cos 𝛼    : \",v.dot(w)/(np.linalg.norm(v)*np.linalg.norm(w)))\n",
    "print(\"g. cos 𝛽    : \",u.dot(w)/(np.linalg.norm(u)*np.linalg.norm(w)))\n",
    "print(\"h. d(u,v)   : \", np.linalg.norm(u-v))\n",
    "print(\"i. d(w,v)   : \", np.linalg.norm(w-v))\n",
    "print(\"j. d(u,w)   : \", np.linalg.norm(u-w))\n",
    "print(\"k. proj(u,v): \",u.dot(v)*v/(np.linalg.norm(v)**2) )\n",
    "print(\"l. proj(w,v): \",w.dot(v)*v/(np.linalg.norm(v)**2) )\n",
    "print(\"m. proj(u,w): \",u.dot(w)*w/(np.linalg.norm(w)**2) )"
   ]
  },
  {
   "cell_type": "markdown",
   "id": "cf914f40",
   "metadata": {},
   "source": [
    "### **3. Let $\\textbf{u}$ = (2, -5, 4, 6, -3), $\\textbf{v}$ = (5, -2, 1, -7, 4), $\\textbf{w}$ = (2, 1, -3) find:**"
   ]
  },
  {
   "cell_type": "markdown",
   "id": "cf266350",
   "metadata": {},
   "source": [
    "a. $4\\textbf{u}-3\\textbf{v}$<br>\n",
    "b. $5\\textbf{u}+2\\textbf{v}-2\\textbf{w}$<br>\n",
    "c. $\\textbf{u} \\cdotp \\textbf{v}$,$\\textbf{v} \\cdotp \\textbf{w}$, $\\textbf{u} \\cdotp \\textbf{w}$<br>\n",
    "d. ||$\\textbf{u}$||, ||$\\textbf{v}$||, ||$\\textbf{w}$||<br>\n",
    "e. If $\\theta$ is the angle between $\\textbf{u}$  and   $\\textbf{v}$, find $\\cos{\\theta}$.<br>\n",
    "f. If $\\alpha$ is the angle between $\\textbf{v}$  and   $\\textbf{w}$, find $\\cos{\\alpha}$.<br>\n",
    "g. If $\\beta$ is the angle between $\\textbf{u}$  and   $\\textbf{w}$, find $\\cos{\\beta}$.<br>\n",
    "h. Find $d(\\textbf{u},\\textbf{v})$.<br>\n",
    "i. Find $d(\\textbf{w},\\textbf{v})$.<br>\n",
    "j. Find $d(\\textbf{u},\\textbf{w})$. <br>\n",
    "k. Find $proj(\\textbf{u},\\textbf{v})$.<br>\n",
    "l. Find $proj(\\textbf{w},\\textbf{v})$.<br>\n",
    "m. Find $proj(\\textbf{u},\\textbf{w})$. <br> "
   ]
  },
  {
   "cell_type": "markdown",
   "id": "600c3075",
   "metadata": {},
   "source": [
    "## Manual Solutions"
   ]
  },
  {
   "cell_type": "markdown",
   "id": "c09265ea",
   "metadata": {},
   "source": [
    "## Pythonic Solutions"
   ]
  },
  {
   "cell_type": "code",
   "execution_count": null,
   "id": "d3e90b2f",
   "metadata": {},
   "outputs": [],
   "source": []
  }
 ],
 "metadata": {
  "kernelspec": {
   "display_name": "Python 3 (ipykernel)",
   "language": "python",
   "name": "python3"
  },
  "language_info": {
   "codemirror_mode": {
    "name": "ipython",
    "version": 3
   },
   "file_extension": ".py",
   "mimetype": "text/x-python",
   "name": "python",
   "nbconvert_exporter": "python",
   "pygments_lexer": "ipython3",
   "version": "3.11.4"
  }
 },
 "nbformat": 4,
 "nbformat_minor": 5
}
