{
 "cells": [
  {
   "cell_type": "markdown",
   "metadata": {},
   "source": [
    "# Erwin Antepuesto "
   ]
  },
  {
   "cell_type": "markdown",
   "metadata": {},
   "source": [
    "## <font color = red>Assignment 1</font>\n",
    "- The above python functions are developed to automate forward elimination.\n",
    "- To complete the process of determining the solution, <font color = red>create a function or steps of function that will automate backward substitution.</font>\n",
    "\n",
    "#### Function Definition:"
   ]
  },
  {
   "cell_type": "code",
   "execution_count": 7,
   "metadata": {},
   "outputs": [],
   "source": [
    "def BackwardSubstitution(A):\n",
    "    m = A.shape[0]  # m is number of rows in A\n",
    "    n = A.shape[1]  # n is number of columns in A\n",
    "    x = np.zeros(m)  # Initialize the solution vector x\n",
    "\n",
    "    # Start from the last row and go upwards\n",
    "    for i in range(m-1, -1, -1):\n",
    "        # Initialize the sum to be the b value\n",
    "        sum = A[i][n-1]\n",
    "        # Subtract the sum of the known values\n",
    "        for j in range(i+1, m):\n",
    "            sum -= A[i][j]*x[j]\n",
    "        # Divide by the coefficient of the unknown\n",
    "        x[i] = sum / A[i][i]\n",
    "    return x"
   ]
  },
  {
   "cell_type": "markdown",
   "metadata": {},
   "source": [
    "#### Explanation\n",
    "\n",
    "<p>The function assumes that the given **A** is an augmented matrix where the last column is the vector **b**.</p>\n",
    "<p>To prove that the function works, I used solved equations in the notes to compare the solutions.</p><br>\n",
    "\n",
    "#### Examples\n",
    "Test case 1:\n",
    "\n",
    "\\begin{pmatrix}\n",
    "    1 & -1 & -2 &\\bigm| & -5 \\\\\n",
    "    0 & 1 & 1 &\\bigm| & 3 \\\\\n",
    "    0 & 0 & 1 &\\bigm| & 2 \\\\\n",
    "\\end{pmatrix}\n",
    "<br><br>\n",
    "The solution for the augmented matrix above is\n",
    "\\begin{pmatrix}\n",
    "    0 \\\\\n",
    "    1 \\\\\n",
    "    2 \\\\\n",
    "\\end{pmatrix}\n",
    "\n",
    "\n",
    "Test case 2:\n",
    "\n",
    "\\begin{pmatrix}\n",
    "    1 & -1 & 1 &\\bigm| & 3 \\\\\n",
    "    0 & 1 & 2 &\\bigm| & 4 \\\\\n",
    "    0 & 0 & 1 &\\bigm| & 2 \\\\\n",
    "\\end{pmatrix}\n",
    "<br><br>\n",
    "The solution for the augmented matrix above is\n",
    "\\begin{pmatrix}\n",
    "    1 \\\\\n",
    "    0 \\\\\n",
    "    2 \\\\\n",
    "\\end{pmatrix}\n"
   ]
  },
  {
   "cell_type": "code",
   "execution_count": 21,
   "metadata": {},
   "outputs": [
    {
     "name": "stdout",
     "output_type": "stream",
     "text": [
      "Test case 1: [1. 0. 2.]\n",
      "Test case 2: [1. 0. 2.]\n"
     ]
    }
   ],
   "source": [
    "#Using the function\n",
    "\n",
    "import numpy as np\n",
    "\n",
    "#Test Case 1\n",
    "A = np.array([[1, -1, -2, -5],\n",
    "              [0, 1, 1, 3],\n",
    "              [0, 0, 1, 2]])\n",
    "\n",
    "\n",
    "x = BackwardSubstitution(A)\n",
    "\n",
    "#Test Case 2\n",
    "B = np.array([[1, -1, 1, 3],\n",
    "              [0, 1, 2, 4],\n",
    "              [0, 0, 1, 2]])\n",
    "\n",
    "x = BackwardSubstitution(B)\n",
    "\n",
    "\n",
    "print(\"Test case 1:\",x)\n",
    "print(\"Test case 2:\",x)\n",
    "\n",
    "#As you can see, the function output coincides with the solutions from the given examples."
   ]
  },
  {
   "cell_type": "markdown",
   "metadata": {},
   "source": [
    "## <font color = red>Assignment 2</font>\n",
    "---\n",
    "**INSTRUCTION**\n",
    "- Use latex programming to show your manual solutions.\n",
    "- If the problem involves determining the row echelon or reduced row echelon, show both the manual and the pythonic solutions.\n",
    "- Solutions must be saved as a jupyter notebook.\n",
    "- Push your solutions to your forked github repo.\n",
    "- Note that there is some **possibility** that some ,or all, of your exam questions will be taken from these assignment.\n",
    "- The technique here is to first solve manually before writing in Latex.\n",
    "---\n",
    "## 1. Provide reasons why each of the following equations is, or is not, a linear equation.<br>\n",
    "### $\\cos{\\theta}x+4y+z = \\sqrt{3}$\n",
    "- Classification: Not a linear Equation\n",
    "- Reasoning: \n",
    "- a. the constant for x is a trigonometric function\n",
    "- b. the right side of the equation involves a square root\n",
    "- c. $\\theta$ can represent any angle\n",
    "<br><br><br>\n",
    "\n",
    "### $cos{x}4y+z = \\sqrt{3}$\n",
    "- Classification: Not a linear Equation\n",
    "- Reasoning: \n",
    "- a. x is involved in a nonlinear operation\n",
    "- b. the right side of the equation involves a square root\n",
    "- c. the coefficient of x is not a constant but a variable-dependent function\n",
    "<br><br><br>\n",
    "\n",
    "\n",
    "### $x^{-1}+7y+z = \\sin{(\\frac{\\pi}{2})}$\n",
    "- Classification: Not a linear Equation\n",
    "- Reasoning: \n",
    "- a. x is raised to -1, which represents 1/x\n",
    "- b. the right side of the equation involves a trigonometric function\n",
    "- c. the presence of π, which is a nonlinear constant\n",
    "<br><br><br>\n",
    "\n",
    "\n",
    "### $x^1+y^1+z^1=0$\n",
    "- Classification: Linear Equation\n",
    "- Reasoning: \n",
    "- a. all varaibles are raised to only 1\n",
    "- b. there are no trigonometric functions, square roots or other nonlinear operations\n",
    "- c. the coeffiecients of x,y,z are constants\n",
    "<br><br><br>\n",
    "\n",
    "\n",
    "---\n"
   ]
  },
  {
   "cell_type": "code",
   "execution_count": null,
   "metadata": {},
   "outputs": [],
   "source": []
  }
 ],
 "metadata": {
  "kernelspec": {
   "display_name": "Python 3 (ipykernel)",
   "language": "python",
   "name": "python3"
  },
  "language_info": {
   "codemirror_mode": {
    "name": "ipython",
    "version": 3
   },
   "file_extension": ".py",
   "mimetype": "text/x-python",
   "name": "python",
   "nbconvert_exporter": "python",
   "pygments_lexer": "ipython3",
   "version": "3.11.4"
  }
 },
 "nbformat": 4,
 "nbformat_minor": 2
}
